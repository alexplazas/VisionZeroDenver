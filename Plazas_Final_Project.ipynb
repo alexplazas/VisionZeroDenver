{
 "cells": [
  {
   "cell_type": "markdown",
   "id": "ea7115fa-b296-4a3e-a97b-8cb790624667",
   "metadata": {},
   "source": [
    "\n",
    "<figure>\n",
    "  <IMG SRC=\"https://www.colorado.edu/cs/profiles/express/themes/cuspirit/logo.png\" WIDTH=100 ALIGN=\"left\">\n",
    "</figure>\n",
    "<figure>\n",
    " <IMG SRC=\"https://www.codot.gov/summit/assets/logos-for-summit/city-of-denver-logo/@@images/image\" WIDTH=100 ALIGN=\"right\">\n",
    "</figure>\n"
   ]
  },
  {
   "cell_type": "markdown",
   "id": "42b42a1f-ca99-49ad-af1c-12b7638a01b7",
   "metadata": {},
   "source": [
    "# Mile High Accidents and Vision Zero: Analyzing Denver Traffic Accidents and Developing a Predictive Accident Fatality Model"
   ]
  },
  {
   "cell_type": "markdown",
   "id": "39f5c20f-f667-4023-b85f-7a638990194a",
   "metadata": {},
   "source": [
    "## Introduction\n",
    "\n",
    "Accidents happen now and again. Home to over 700,000 people, Denver is well acquainted with accidents involving vehicles, bikes, pedestrians, and even e-scooters. In a city where urban roadways prioritize motor vehicles, cars are both a blessing and a curse when considering the trade-offs between economic activity and rate-of-accidents as ridership increases. While most traffic accidents are no more than fender-benders or minor collisions, the probability of a fatal accident is never non-zero. As of 2016, the city of Denver has committed to a goal of reducing the number of serious injuries and deaths as a result traffic accidents to zero. Given that 6 years have passed since the initial vision declaration, where are we today? Has the city shown progress in reducing accident-related deaths and injuries to zero? As of November 1st, 2022, the number of traffic deaths in Denver is 69. Although down from 81 the previous year, the fatality count dwarfs the goal set by the city. With such goals in mind, it is logical to develop an understanding of what causes accidents, and what more the city can do to meet its goals given a deadline of 2030. \n",
    "\n",
    "## Goals and Outcomes\n",
    "\n",
    "With a vision of zero fatalities in Denver, carrying out an analysis of traffic accidents to highlight contributing factors and areas-of-interest is ultimately in the best interest of the city and its citizens. A primary goal of the study is to answer questions regarding accident contributing factors and to what degree the factors influence the probability of adverse outcomes such as serious injury or fatalities. Questions the study seeks to answer include:\n",
    "\n",
    "**Which location factors influence accident severity?** \\\n",
    "**What road conditions are most often present when traffic fatalities occur?** \\\n",
    "**At what times of the day are accidents occurring? Can we predict when they will occur?** \n",
    "\n",
    "Additional questions may arise over the course of the study. As more features are analyzed and attributes derived, the surface area on which to ask questions about the data grows and could lead to fascinating insights.\n",
    "\n",
    "Another goal is to develop a model which can predict an accident given situational characteristics such as road conditions and vehicle type. Armed with a model to predict accidents, those tasked with maintaining road safety can take preventative measures to decrease the likelihood of accidents occurring in a specific area. A forward-looking model might also give insight into how the city is progressing on traffic fatality goals and when the city might expect to reach its goals, or if more work is necessary to reduce fatalities to 0. \n",
    "\n",
    "\n",
    "## The Dataset\n",
    "\n",
    "### Dataset Overview\n",
    "The dataset that will be used for the traffic accident analysis is sourced from the City of Denver Open Data Catalog. The Open Data Catalog provides a library of city-related datasets, each with a useful description about the purpose of the data and the method of data collection used to compile the dataset, as well as when the dataset was first uploaded and last updated. With regards to the traffic accident dataset, the data is vast and feature rich, comprising 47 features (or columns), and over 200,000 rows compiled between the years 2013 and 2022. The datatypes are diverse, with a mixture of categorical data in with string types, integer values for measures such as x and y coordinates, floating points for longitude and latitude, datetimes, and boolean-like values indicating the absence or presence of certain roadway features. One of the features of interest is the neighborhood_id, which contains plaintext values corresponding to the neighborhood in which the accident occurred. Dates are expressed including 24-hour time at minute-precision, sufficient for analyzing how time-of-day might impact accident likelihood. Numerous categorical features are present in the dataset, with noteworthy features being road_conditon, tu1_driver_humancontribfactor, and road_description. The road condition feature can take on the values of dry, wet, icy, or snowy. The human contributing factor feature is one of interest as it details what the driver involved in the accident was doing prior to the accident taking place. Finally, the road description contains categorical data for accident occurrance near intersections, driveways, or in parking lots. While the dataset can be overwhelming, data cleaning methods will be applied to strip superfluous or unnecessary elements to streamline the larger analysis process.\n",
    "\n",
    "### Features/Attributes in Detail\n",
    "\n",
    "- **shape:** Shape object associated with geoprocessing data; Object\n",
    "- **incident_id:** ID for the traffic incident; int\n",
    "- **offense_id:** ID for the traffic offense (if applicable); int\n",
    "- **offense_code:** Disciplinary code for the traffic offense (if applicable); int\n",
    "- **offense_code_extension:** Extension code for traffic offense (if applicable); int\n",
    "- **top_traffic_accident_offense:** Description of traffic accident offense; String\n",
    "- **first_occurrence_date:** Date and time of first traffic accidenet occurrence; Datetime\n",
    "- **last_occurrence_date:** Date and time of last traffic accidenet occurrence; Datetime\n",
    "- **reported_date:** Date and time for which the accident was reported; Datetime\n",
    "- **incident_address:** Closest address to the accident; String\n",
    "- **geo_x:** X coordinate for traffic incident; int\n",
    "- **geo_y:** Y coordinate for traffic incident; int\n",
    "- **geo_lon:** Longitude for traffic incident; float\n",
    "- **geo_lat:** Latitude for traffic incident; float\n",
    "- **district_id:** ID for district in which traffic incident occurred; int\n",
    "- **precinct_id:** ID for precinct in which traffic incident occurred; int\n",
    "- **neighborhood_id:** ID for neighborhood in which traffic incident occurred; String\n",
    "- **bicycle_ind:** Indicating presence of a bicycle indicator; int\n",
    "- **pedestrian_ind:** Indicating presence of a pedestrian indicator; int\n",
    "- **HARMFUL_EVENT_SEQ_1:** First sequence describing traffic indcident; String\n",
    "- **HARMFUL_EVENT_SEQ_2:** Second sequence describing traffic indcident; String\n",
    "- **HARMFUL_EVENT_SEQ_3:** Third sequence describing traffic indcident; String\n",
    "- **road_location:** Descriptive location for where on the road the traffic incident occurred; String\n",
    "- **ROAD_DESCRIPTION:** Additional details on road location for the traffic incident; String\n",
    "- **ROAD_CONTOUR:** Contour/direction of the road at the location of the traffic incident; String\n",
    "- **ROAD_CONDITION:** Condition of the road at the location of the traffic incident; String\n",
    "- **LIGHT_CONDITION:** Light conditions at the time of the traffic incident; String\n",
    "- **TU1_VEHICLE_TYPE:** Traffic unit 1 (incident participant) vehicle type; String\n",
    "- **TU1_TRAVEL_DIRECTION:** Traffic unit 1 (incident participant) travelling direction; String\n",
    "- **TU1_VEHICLE_MOVEMENT:** Traffic unit 1 (incident participant) vehicle movement description; String\n",
    "- **TU1_DRIVER_ACTION:** Traffic unit 1 (incident participant) action taken during incident; String\n",
    "- **TU1_DRIVER_HUMANCONTRIBFACTOR:** Traffic unit 1 (incident participant) factor that might've contributed to the traffic incident;\n",
    "- **TU1_PEDESTRIAN_ACTION:** Traffic unit 1 (incident participant) action involving a pedestrian; String\n",
    "- **TU2_VEHICLE_TYPE:** Traffic unit 2 (incident participant) vehicle type; String\n",
    "- **TU2_TRAVEL_DIRECTION:** Traffic unit 2 (incident participant) travelling direction; String\n",
    "- **TU2_VEHICLE_MOVEMENT:** Traffic unit 2 (incident participant) vehicle movement description; String\n",
    "- **TU2_DRIVER_ACTION:** Traffic unit 2 (incident participant) action taken during incident; String\n",
    "- **TU2_DRIVER_HUMANCONTRIBFACTOR:** Traffic unit 2 (incident participant) factor that might've contributed to the traffic incident;\n",
    "- **TU2_PEDESTRIAN_ACTION:** Traffic unit 2 (incident participant) action involving a pedestrian; String\n",
    "- **SERIOUSLY_INJURED:** Number of serious injuries related to traffic incident; int\n",
    "- **FATALITIES:** Number of fatalities related to traffic incident; int\n",
    "- **FATALITY_MODE_1:** First factor associated with incident fatality; String\n",
    "- **FATALITY_MODE_2:** Second factor associated with incident fatality; String\n",
    "- **SERIOUSLY_INJURED_MODE_1:** First factor associated with incident serious injuries; String\n",
    "- **SERIOUSLY_INJURED_MODE_2:** Second factor associated with incident serious injuries; String\n",
    "- **POINT_X:** X point of data value; null\n",
    "- **POINT_Y:** Y point of data value; null\n",
    "\n",
    "## Analysis Overview\n",
    "\n",
    "In order to determine fatal and non-fatal accident contributing factors, a combination of **classification and regression** tasks will be carried out to identify factors and potentially predict when, where, and how accidents might occur. In the **classification** portion of the analysis, multiple features will be combined to classify certain conditions that might contribute to an accident. For instance, time-of-day, light conditions, and road conditions will be collated and used to classify accidents based on the presence and severity of the aformentioned factors. Further classification of the data would come through analysis of human factors and their contributions to accident likelihood such as movement direction and driver action at the time of accident. Elements of **regression** will be used to train a model that can predict whether or not an accident will involve seriously injured victims or fatalities. Because many of the data attributes are categorical in nature, it will ultimately be more straightforward to utilize components of the data to classify and categorize data based on attribute similarity. Thus, tasks associated with the **regression** portion of the analysis will be limited in scope to variables which regression analysis can be easily implemented to such as continuous time-series data and/or location data determined by coordinates."
   ]
  },
  {
   "cell_type": "markdown",
   "id": "f89f86d4-d7dc-46da-a1bc-0a206bd8da5a",
   "metadata": {},
   "source": [
    "## Bonus Description\n",
    "\n",
    "Because of the real-world implications of this project and novelty of the dataset, I believe the project is eligible for the bonus. Reducing traffic injuries and fatalities is at the top of the list for any government official, and if it isn't, it should be. As cities grow, so too do the probabilities of adverse events occurring such as traffic fatalities. Understanding the potential causes of such events is paramount to any strategy to curtail them. Since the project aims to analyze the data in a way to gain insight into the underlying patterns of traffic incidents, the conclusions that come as a result of the analysis would be of interest to cities striving toward Vision Zero. However, delivering those insights is no trivial task. The data gathered from traffic incidents, such as the dataset used in my project, are multifaceted, multityped, and span multiple years. Cleaning and classifying the data prior to analysis is thus a task which demonstrates project creativity in finding solutions to data challenges such that the final, clean data can be used in deeper analyses. \n",
    "\n",
    "My main motivation for the project comes as I am a resident of Denver, city and county. I bike (nearly) every day to work, and come face-to-face with city planning issues clashing against the needs of industry, the environment, health and safety, and the other stakeholders which share our streets. Most would agree that reducing deaths related to traffic accidents to 0 is an admirable task, and the city has taken steps to address traffic issues. However, there is still work to be done within the city to achieve the ultimate goal of no traffic deaths. "
   ]
  },
  {
   "cell_type": "markdown",
   "id": "d767b3a8-6559-4f3f-8c30-c81d85cab481",
   "metadata": {},
   "source": [
    "## Data Cleaning"
   ]
  },
  {
   "cell_type": "markdown",
   "id": "8a54b2dd-8115-44df-8872-19e3908134a1",
   "metadata": {},
   "source": [
    "Before performing any of the classification or regression tasks described previously, a clean dataset must be in place. Given that the Denver traffic accidents dataset is large, rows and features will need to be cut to focus the analysis. \n",
    "\n",
    "Let's start by importing the libraries necessary to clean, transform, and even plot the data. "
   ]
  },
  {
   "cell_type": "code",
   "execution_count": 1,
   "id": "ea4be941-10e6-46a0-8d80-e1d15a16a7f8",
   "metadata": {},
   "outputs": [],
   "source": [
    "import pandas as pd\n",
    "import numpy as np\n",
    "import matplotlib.pyplot as plt\n",
    "import scipy\n",
    "import statsmodels.formula.api as smf\n",
    "import statsmodels.api as sm\n",
    "from scipy import stats\n",
    "from sklearn.model_selection import train_test_split\n",
    "from sklearn.preprocessing import LabelEncoder, OrdinalEncoder, OneHotEncoder, StandardScaler\n",
    "from sklearn.feature_selection import SelectKBest, chi2\n",
    "from sklearn.linear_model import LogisticRegression, LinearRegression\n",
    "from sklearn.metrics import confusion_matrix, classification_report, accuracy_score, precision_score, recall_score\n",
    "from sklearn.svm import LinearSVC\n",
    "from sklearn.tree import DecisionTreeClassifier\n",
    "from sklearn.ensemble import RandomForestClassifier\n",
    "from sklearn.naive_bayes import GaussianNB\n",
    "from sklearn.neighbors import KNeighborsClassifier\n",
    "%matplotlib inline"
   ]
  },
  {
   "cell_type": "markdown",
   "id": "911b1eef-5cad-472f-970f-441118605c72",
   "metadata": {
    "tags": []
   },
   "source": [
    "Now, we can import the data and load it into a dataframe for future usage:"
   ]
  },
  {
   "cell_type": "code",
   "execution_count": 2,
   "id": "cac7cb96-f33b-4106-a53c-0a421875ec9b",
   "metadata": {},
   "outputs": [],
   "source": [
    "df = pd.read_csv('traffic_accidents.csv', dtype='unicode')"
   ]
  },
  {
   "cell_type": "markdown",
   "id": "3b601625-0729-4053-9e33-761568ac9381",
   "metadata": {
    "tags": []
   },
   "source": [
    "Next, we'll print the first elements of the dataset to get an overview of its charateristics:"
   ]
  },
  {
   "cell_type": "code",
   "execution_count": 3,
   "id": "eb3dae50-5021-4343-a192-4928eae08697",
   "metadata": {},
   "outputs": [
    {
     "data": {
      "text/html": [
       "<div>\n",
       "<style scoped>\n",
       "    .dataframe tbody tr th:only-of-type {\n",
       "        vertical-align: middle;\n",
       "    }\n",
       "\n",
       "    .dataframe tbody tr th {\n",
       "        vertical-align: top;\n",
       "    }\n",
       "\n",
       "    .dataframe thead th {\n",
       "        text-align: right;\n",
       "    }\n",
       "</style>\n",
       "<table border=\"1\" class=\"dataframe\">\n",
       "  <thead>\n",
       "    <tr style=\"text-align: right;\">\n",
       "      <th></th>\n",
       "      <th>shape</th>\n",
       "      <th>incident_id</th>\n",
       "      <th>offense_id</th>\n",
       "      <th>offense_code</th>\n",
       "      <th>offense_code_extension</th>\n",
       "      <th>top_traffic_accident_offense</th>\n",
       "      <th>first_occurrence_date</th>\n",
       "      <th>last_occurrence_date</th>\n",
       "      <th>reported_date</th>\n",
       "      <th>incident_address</th>\n",
       "      <th>geo_x</th>\n",
       "      <th>geo_y</th>\n",
       "      <th>geo_lon</th>\n",
       "      <th>geo_lat</th>\n",
       "      <th>district_id</th>\n",
       "      <th>precinct_id</th>\n",
       "      <th>neighborhood_id</th>\n",
       "      <th>bicycle_ind</th>\n",
       "      <th>pedestrian_ind</th>\n",
       "      <th>HARMFUL_EVENT_SEQ_1</th>\n",
       "      <th>HARMFUL_EVENT_SEQ_2</th>\n",
       "      <th>HARMFUL_EVENT_SEQ_3</th>\n",
       "      <th>road_location</th>\n",
       "      <th>ROAD_DESCRIPTION</th>\n",
       "      <th>ROAD_CONTOUR</th>\n",
       "      <th>ROAD_CONDITION</th>\n",
       "      <th>LIGHT_CONDITION</th>\n",
       "      <th>TU1_VEHICLE_TYPE</th>\n",
       "      <th>TU1_TRAVEL_DIRECTION</th>\n",
       "      <th>TU1_VEHICLE_MOVEMENT</th>\n",
       "      <th>TU1_DRIVER_ACTION</th>\n",
       "      <th>TU1_DRIVER_HUMANCONTRIBFACTOR</th>\n",
       "      <th>TU1_PEDESTRIAN_ACTION</th>\n",
       "      <th>TU2_VEHICLE_TYPE</th>\n",
       "      <th>TU2_TRAVEL_DIRECTION</th>\n",
       "      <th>TU2_VEHICLE_MOVEMENT</th>\n",
       "      <th>TU2_DRIVER_ACTION</th>\n",
       "      <th>TU2_DRIVER_HUMANCONTRIBFACTOR</th>\n",
       "      <th>TU2_PEDESTRIAN_ACTION</th>\n",
       "      <th>SERIOUSLY_INJURED</th>\n",
       "      <th>FATALITIES</th>\n",
       "      <th>FATALITY_MODE_1</th>\n",
       "      <th>FATALITY_MODE_2</th>\n",
       "      <th>SERIOUSLY_INJURED_MODE_1</th>\n",
       "      <th>SERIOUSLY_INJURED_MODE_2</th>\n",
       "      <th>POINT_X</th>\n",
       "      <th>POINT_Y</th>\n",
       "    </tr>\n",
       "  </thead>\n",
       "  <tbody>\n",
       "    <tr>\n",
       "      <th>0</th>\n",
       "      <td>&lt;geoprocessing describe geometry object object...</td>\n",
       "      <td>2022409020</td>\n",
       "      <td>202240902054010</td>\n",
       "      <td>5401</td>\n",
       "      <td>0</td>\n",
       "      <td>TRAF - ACCIDENT - HIT &amp; RUN</td>\n",
       "      <td>2022-08-10 17:14:00</td>\n",
       "      <td>2022-08-10 17:14:00</td>\n",
       "      <td>2022-08-10 17:14:00</td>\n",
       "      <td>1653 S COLORADO BLVD</td>\n",
       "      <td>3156983</td>\n",
       "      <td>1675619</td>\n",
       "      <td>-104.94220053</td>\n",
       "      <td>39.68705042</td>\n",
       "      <td>3</td>\n",
       "      <td>312</td>\n",
       "      <td>Cory - Merrill</td>\n",
       "      <td>NaN</td>\n",
       "      <td>NaN</td>\n",
       "      <td></td>\n",
       "      <td></td>\n",
       "      <td></td>\n",
       "      <td></td>\n",
       "      <td></td>\n",
       "      <td></td>\n",
       "      <td></td>\n",
       "      <td></td>\n",
       "      <td>OTHER</td>\n",
       "      <td>OTHER</td>\n",
       "      <td>OTHER</td>\n",
       "      <td>OTHER</td>\n",
       "      <td>OTHER</td>\n",
       "      <td>OTHER</td>\n",
       "      <td>OTHER</td>\n",
       "      <td>OTHER</td>\n",
       "      <td>OTHER</td>\n",
       "      <td>OTHER</td>\n",
       "      <td>OTHER</td>\n",
       "      <td>OTHER</td>\n",
       "      <td>0</td>\n",
       "      <td>0</td>\n",
       "      <td>OTHER</td>\n",
       "      <td>OTHER</td>\n",
       "      <td>OTHER</td>\n",
       "      <td>OTHER</td>\n",
       "      <td>NaN</td>\n",
       "      <td>NaN</td>\n",
       "    </tr>\n",
       "    <tr>\n",
       "      <th>1</th>\n",
       "      <td>&lt;geoprocessing describe geometry object object...</td>\n",
       "      <td>2022433023</td>\n",
       "      <td>202243302354410</td>\n",
       "      <td>5441</td>\n",
       "      <td>0</td>\n",
       "      <td>TRAF - ACCIDENT</td>\n",
       "      <td>2022-08-23 14:51:00</td>\n",
       "      <td>2022-08-23 14:51:00</td>\n",
       "      <td>2022-08-23 14:51:00</td>\n",
       "      <td>E 47TH AVE / N PARIS ST</td>\n",
       "      <td>3182996</td>\n",
       "      <td>1710518</td>\n",
       "      <td>-104.84888408</td>\n",
       "      <td>39.78237891</td>\n",
       "      <td>5</td>\n",
       "      <td>511</td>\n",
       "      <td>Montbello</td>\n",
       "      <td>NaN</td>\n",
       "      <td>NaN</td>\n",
       "      <td></td>\n",
       "      <td></td>\n",
       "      <td></td>\n",
       "      <td></td>\n",
       "      <td></td>\n",
       "      <td></td>\n",
       "      <td></td>\n",
       "      <td></td>\n",
       "      <td>OTHER</td>\n",
       "      <td>OTHER</td>\n",
       "      <td>OTHER</td>\n",
       "      <td>OTHER</td>\n",
       "      <td>OTHER</td>\n",
       "      <td>OTHER</td>\n",
       "      <td>OTHER</td>\n",
       "      <td>OTHER</td>\n",
       "      <td>OTHER</td>\n",
       "      <td>OTHER</td>\n",
       "      <td>OTHER</td>\n",
       "      <td>OTHER</td>\n",
       "      <td>0</td>\n",
       "      <td>0</td>\n",
       "      <td>OTHER</td>\n",
       "      <td>OTHER</td>\n",
       "      <td>OTHER</td>\n",
       "      <td>OTHER</td>\n",
       "      <td>NaN</td>\n",
       "      <td>NaN</td>\n",
       "    </tr>\n",
       "    <tr>\n",
       "      <th>2</th>\n",
       "      <td>&lt;geoprocessing describe geometry object object...</td>\n",
       "      <td>2022432475</td>\n",
       "      <td>202243247554010</td>\n",
       "      <td>5401</td>\n",
       "      <td>0</td>\n",
       "      <td>TRAF - ACCIDENT - HIT &amp; RUN</td>\n",
       "      <td>2022-08-23 09:30:00</td>\n",
       "      <td>2022-08-23 09:30:00</td>\n",
       "      <td>2022-08-23 10:03:00</td>\n",
       "      <td>N VINE ST / E 13TH AVE</td>\n",
       "      <td>3151232</td>\n",
       "      <td>1693713</td>\n",
       "      <td>-104.96225421</td>\n",
       "      <td>39.7368173</td>\n",
       "      <td>6</td>\n",
       "      <td>622</td>\n",
       "      <td>Cheesman Park</td>\n",
       "      <td>NaN</td>\n",
       "      <td>NaN</td>\n",
       "      <td></td>\n",
       "      <td></td>\n",
       "      <td></td>\n",
       "      <td></td>\n",
       "      <td></td>\n",
       "      <td></td>\n",
       "      <td></td>\n",
       "      <td></td>\n",
       "      <td>OTHER</td>\n",
       "      <td>OTHER</td>\n",
       "      <td>OTHER</td>\n",
       "      <td>OTHER</td>\n",
       "      <td>OTHER</td>\n",
       "      <td>OTHER</td>\n",
       "      <td>OTHER</td>\n",
       "      <td>OTHER</td>\n",
       "      <td>OTHER</td>\n",
       "      <td>OTHER</td>\n",
       "      <td>OTHER</td>\n",
       "      <td>OTHER</td>\n",
       "      <td>0</td>\n",
       "      <td>0</td>\n",
       "      <td>OTHER</td>\n",
       "      <td>OTHER</td>\n",
       "      <td>OTHER</td>\n",
       "      <td>OTHER</td>\n",
       "      <td>NaN</td>\n",
       "      <td>NaN</td>\n",
       "    </tr>\n",
       "    <tr>\n",
       "      <th>3</th>\n",
       "      <td>&lt;geoprocessing describe geometry object object...</td>\n",
       "      <td>2022432837</td>\n",
       "      <td>202243283754410</td>\n",
       "      <td>5441</td>\n",
       "      <td>0</td>\n",
       "      <td>TRAF - ACCIDENT</td>\n",
       "      <td>2022-08-23 13:30:00</td>\n",
       "      <td>2022-08-23 13:30:00</td>\n",
       "      <td>2022-08-23 14:13:00</td>\n",
       "      <td>LEETSDALE DR / S HOLLY ST</td>\n",
       "      <td>3162548</td>\n",
       "      <td>1683031</td>\n",
       "      <td>-104.92225975</td>\n",
       "      <td>39.70730246</td>\n",
       "      <td>3</td>\n",
       "      <td>322</td>\n",
       "      <td>Washington Virginia Vale</td>\n",
       "      <td>NaN</td>\n",
       "      <td>NaN</td>\n",
       "      <td></td>\n",
       "      <td></td>\n",
       "      <td></td>\n",
       "      <td></td>\n",
       "      <td></td>\n",
       "      <td></td>\n",
       "      <td></td>\n",
       "      <td></td>\n",
       "      <td>OTHER</td>\n",
       "      <td>OTHER</td>\n",
       "      <td>OTHER</td>\n",
       "      <td>OTHER</td>\n",
       "      <td>OTHER</td>\n",
       "      <td>OTHER</td>\n",
       "      <td>OTHER</td>\n",
       "      <td>OTHER</td>\n",
       "      <td>OTHER</td>\n",
       "      <td>OTHER</td>\n",
       "      <td>OTHER</td>\n",
       "      <td>OTHER</td>\n",
       "      <td>0</td>\n",
       "      <td>0</td>\n",
       "      <td>OTHER</td>\n",
       "      <td>OTHER</td>\n",
       "      <td>OTHER</td>\n",
       "      <td>OTHER</td>\n",
       "      <td>NaN</td>\n",
       "      <td>NaN</td>\n",
       "    </tr>\n",
       "    <tr>\n",
       "      <th>4</th>\n",
       "      <td>&lt;geoprocessing describe geometry object object...</td>\n",
       "      <td>2022433227</td>\n",
       "      <td>202243322754410</td>\n",
       "      <td>5441</td>\n",
       "      <td>0</td>\n",
       "      <td>TRAF - ACCIDENT</td>\n",
       "      <td>2022-08-23 16:59:00</td>\n",
       "      <td>2022-08-23 16:59:00</td>\n",
       "      <td>2022-08-23 17:39:00.000001</td>\n",
       "      <td>N YORK ST / E 18TH AVE</td>\n",
       "      <td>3151907</td>\n",
       "      <td>1696613</td>\n",
       "      <td>-104.95979281</td>\n",
       "      <td>39.74476731</td>\n",
       "      <td>2</td>\n",
       "      <td>622</td>\n",
       "      <td>City Park West</td>\n",
       "      <td>NaN</td>\n",
       "      <td>NaN</td>\n",
       "      <td></td>\n",
       "      <td></td>\n",
       "      <td></td>\n",
       "      <td></td>\n",
       "      <td></td>\n",
       "      <td></td>\n",
       "      <td></td>\n",
       "      <td></td>\n",
       "      <td>OTHER</td>\n",
       "      <td>OTHER</td>\n",
       "      <td>OTHER</td>\n",
       "      <td>OTHER</td>\n",
       "      <td>OTHER</td>\n",
       "      <td>OTHER</td>\n",
       "      <td>OTHER</td>\n",
       "      <td>OTHER</td>\n",
       "      <td>OTHER</td>\n",
       "      <td>OTHER</td>\n",
       "      <td>OTHER</td>\n",
       "      <td>OTHER</td>\n",
       "      <td>0</td>\n",
       "      <td>0</td>\n",
       "      <td>OTHER</td>\n",
       "      <td>OTHER</td>\n",
       "      <td>OTHER</td>\n",
       "      <td>OTHER</td>\n",
       "      <td>NaN</td>\n",
       "      <td>NaN</td>\n",
       "    </tr>\n",
       "  </tbody>\n",
       "</table>\n",
       "</div>"
      ],
      "text/plain": [
       "                                               shape incident_id  \\\n",
       "0  <geoprocessing describe geometry object object...  2022409020   \n",
       "1  <geoprocessing describe geometry object object...  2022433023   \n",
       "2  <geoprocessing describe geometry object object...  2022432475   \n",
       "3  <geoprocessing describe geometry object object...  2022432837   \n",
       "4  <geoprocessing describe geometry object object...  2022433227   \n",
       "\n",
       "        offense_id offense_code offense_code_extension  \\\n",
       "0  202240902054010         5401                      0   \n",
       "1  202243302354410         5441                      0   \n",
       "2  202243247554010         5401                      0   \n",
       "3  202243283754410         5441                      0   \n",
       "4  202243322754410         5441                      0   \n",
       "\n",
       "     top_traffic_accident_offense first_occurrence_date last_occurrence_date  \\\n",
       "0  TRAF - ACCIDENT - HIT & RUN      2022-08-10 17:14:00  2022-08-10 17:14:00   \n",
       "1  TRAF - ACCIDENT                  2022-08-23 14:51:00  2022-08-23 14:51:00   \n",
       "2  TRAF - ACCIDENT - HIT & RUN      2022-08-23 09:30:00  2022-08-23 09:30:00   \n",
       "3  TRAF - ACCIDENT                  2022-08-23 13:30:00  2022-08-23 13:30:00   \n",
       "4  TRAF - ACCIDENT                  2022-08-23 16:59:00  2022-08-23 16:59:00   \n",
       "\n",
       "                reported_date           incident_address    geo_x    geo_y  \\\n",
       "0         2022-08-10 17:14:00       1653 S COLORADO BLVD  3156983  1675619   \n",
       "1         2022-08-23 14:51:00    E 47TH AVE / N PARIS ST  3182996  1710518   \n",
       "2         2022-08-23 10:03:00     N VINE ST / E 13TH AVE  3151232  1693713   \n",
       "3         2022-08-23 14:13:00  LEETSDALE DR / S HOLLY ST  3162548  1683031   \n",
       "4  2022-08-23 17:39:00.000001     N YORK ST / E 18TH AVE  3151907  1696613   \n",
       "\n",
       "         geo_lon      geo_lat district_id precinct_id  \\\n",
       "0  -104.94220053  39.68705042      3              312   \n",
       "1  -104.84888408  39.78237891      5              511   \n",
       "2  -104.96225421   39.7368173      6              622   \n",
       "3  -104.92225975  39.70730246      3              322   \n",
       "4  -104.95979281  39.74476731      2              622   \n",
       "\n",
       "            neighborhood_id bicycle_ind pedestrian_ind HARMFUL_EVENT_SEQ_1  \\\n",
       "0            Cory - Merrill         NaN            NaN                       \n",
       "1                 Montbello         NaN            NaN                       \n",
       "2             Cheesman Park         NaN            NaN                       \n",
       "3  Washington Virginia Vale         NaN            NaN                       \n",
       "4            City Park West         NaN            NaN                       \n",
       "\n",
       "  HARMFUL_EVENT_SEQ_2 HARMFUL_EVENT_SEQ_3 road_location ROAD_DESCRIPTION  \\\n",
       "0                                                                          \n",
       "1                                                                          \n",
       "2                                                                          \n",
       "3                                                                          \n",
       "4                                                                          \n",
       "\n",
       "  ROAD_CONTOUR ROAD_CONDITION LIGHT_CONDITION TU1_VEHICLE_TYPE  \\\n",
       "0                                                        OTHER   \n",
       "1                                                        OTHER   \n",
       "2                                                        OTHER   \n",
       "3                                                        OTHER   \n",
       "4                                                        OTHER   \n",
       "\n",
       "  TU1_TRAVEL_DIRECTION TU1_VEHICLE_MOVEMENT TU1_DRIVER_ACTION  \\\n",
       "0                OTHER                OTHER             OTHER   \n",
       "1                OTHER                OTHER             OTHER   \n",
       "2                OTHER                OTHER             OTHER   \n",
       "3                OTHER                OTHER             OTHER   \n",
       "4                OTHER                OTHER             OTHER   \n",
       "\n",
       "  TU1_DRIVER_HUMANCONTRIBFACTOR TU1_PEDESTRIAN_ACTION TU2_VEHICLE_TYPE  \\\n",
       "0                         OTHER                 OTHER            OTHER   \n",
       "1                         OTHER                 OTHER            OTHER   \n",
       "2                         OTHER                 OTHER            OTHER   \n",
       "3                         OTHER                 OTHER            OTHER   \n",
       "4                         OTHER                 OTHER            OTHER   \n",
       "\n",
       "  TU2_TRAVEL_DIRECTION TU2_VEHICLE_MOVEMENT TU2_DRIVER_ACTION  \\\n",
       "0                OTHER                OTHER             OTHER   \n",
       "1                OTHER                OTHER             OTHER   \n",
       "2                OTHER                OTHER             OTHER   \n",
       "3                OTHER                OTHER             OTHER   \n",
       "4                OTHER                OTHER             OTHER   \n",
       "\n",
       "  TU2_DRIVER_HUMANCONTRIBFACTOR TU2_PEDESTRIAN_ACTION SERIOUSLY_INJURED  \\\n",
       "0                         OTHER                 OTHER                 0   \n",
       "1                         OTHER                 OTHER                 0   \n",
       "2                         OTHER                 OTHER                 0   \n",
       "3                         OTHER                 OTHER                 0   \n",
       "4                         OTHER                 OTHER                 0   \n",
       "\n",
       "  FATALITIES FATALITY_MODE_1 FATALITY_MODE_2 SERIOUSLY_INJURED_MODE_1  \\\n",
       "0          0           OTHER           OTHER                    OTHER   \n",
       "1          0           OTHER           OTHER                    OTHER   \n",
       "2          0           OTHER           OTHER                    OTHER   \n",
       "3          0           OTHER           OTHER                    OTHER   \n",
       "4          0           OTHER           OTHER                    OTHER   \n",
       "\n",
       "  SERIOUSLY_INJURED_MODE_2 POINT_X POINT_Y  \n",
       "0                    OTHER     NaN     NaN  \n",
       "1                    OTHER     NaN     NaN  \n",
       "2                    OTHER     NaN     NaN  \n",
       "3                    OTHER     NaN     NaN  \n",
       "4                    OTHER     NaN     NaN  "
      ]
     },
     "execution_count": 3,
     "metadata": {},
     "output_type": "execute_result"
    }
   ],
   "source": [
    "pd.set_option('display.max_columns', None)\n",
    "df.head()"
   ]
  },
  {
   "cell_type": "markdown",
   "id": "74e4c390-5a98-4be2-ad22-3119d89b3844",
   "metadata": {
    "tags": []
   },
   "source": [
    "As shown in the dataframe head view, several columns have values which are not relevant for our analysis, such as the first column which contais shape data. Let's print out the other dataframe columns and determine which can be purged:"
   ]
  },
  {
   "cell_type": "code",
   "execution_count": 4,
   "id": "91bb1bec-2859-4a5a-a0d3-ef178aff60d7",
   "metadata": {},
   "outputs": [
    {
     "name": "stdout",
     "output_type": "stream",
     "text": [
      "['shape', 'incident_id', 'offense_id', 'offense_code', 'offense_code_extension', 'top_traffic_accident_offense', 'first_occurrence_date', 'last_occurrence_date', 'reported_date', 'incident_address', 'geo_x', 'geo_y', 'geo_lon', 'geo_lat', 'district_id', 'precinct_id', 'neighborhood_id', 'bicycle_ind', 'pedestrian_ind', 'HARMFUL_EVENT_SEQ_1', 'HARMFUL_EVENT_SEQ_2', 'HARMFUL_EVENT_SEQ_3', 'road_location', 'ROAD_DESCRIPTION', 'ROAD_CONTOUR', 'ROAD_CONDITION', 'LIGHT_CONDITION', 'TU1_VEHICLE_TYPE', 'TU1_TRAVEL_DIRECTION', 'TU1_VEHICLE_MOVEMENT', 'TU1_DRIVER_ACTION', 'TU1_DRIVER_HUMANCONTRIBFACTOR', 'TU1_PEDESTRIAN_ACTION', 'TU2_VEHICLE_TYPE', 'TU2_TRAVEL_DIRECTION', 'TU2_VEHICLE_MOVEMENT', 'TU2_DRIVER_ACTION', 'TU2_DRIVER_HUMANCONTRIBFACTOR', 'TU2_PEDESTRIAN_ACTION', 'SERIOUSLY_INJURED', 'FATALITIES', 'FATALITY_MODE_1', 'FATALITY_MODE_2', 'SERIOUSLY_INJURED_MODE_1', 'SERIOUSLY_INJURED_MODE_2', 'POINT_X', 'POINT_Y']\n"
     ]
    }
   ],
   "source": [
    "print(list(df.columns))"
   ]
  },
  {
   "cell_type": "markdown",
   "id": "7f9f3389-9ceb-4282-bf1f-1a591e16989e",
   "metadata": {
    "tags": []
   },
   "source": [
    "We'll get rid of the shape, incident_id, offense_id, offense_code, offense_code_extension columns as they only describe administrative data. We can drop the last_occurrence and reported_date information since we're interested in when the incident actually occurred. We can drop the geo_x and geo_y columns as we already have latitude and longitude data. We can also drop the incident_address since that level of granularity is unnecessary for this analysis. District id can be dropped since we have the neighborhood and precinct in which the accident occurred. Finally, the point x and point y columns can be dropped since the columns are not populated in the set:"
   ]
  },
  {
   "cell_type": "code",
   "execution_count": 5,
   "id": "ced2dbd7-6353-44b5-a2e7-98229347fadf",
   "metadata": {},
   "outputs": [],
   "source": [
    "columns_to_drop = ['shape', 'incident_id', 'offense_id', 'offense_code', 'offense_code_extension', 'last_occurrence_date', 'incident_address', 'reported_date', 'geo_x', 'geo_y', 'district_id', 'POINT_X', 'POINT_Y']\n",
    "df = df.drop(columns=columns_to_drop)\n",
    "df = df.fillna(value='N/A')"
   ]
  },
  {
   "cell_type": "markdown",
   "id": "66889129-0ab8-4732-9d38-ca3b546a3733",
   "metadata": {},
   "source": [
    "Some columns have spaces that are not cleaned as 'N/A' values in the previous step. Lets clean those manually:"
   ]
  },
  {
   "cell_type": "code",
   "execution_count": 6,
   "id": "acbc02c3-e162-49b7-8396-ad3fff4f981f",
   "metadata": {},
   "outputs": [],
   "source": [
    "columns = ['top_traffic_accident_offense', 'neighborhood_id', 'bicycle_ind', 'pedestrian_ind', 'HARMFUL_EVENT_SEQ_1', 'HARMFUL_EVENT_SEQ_2', 'HARMFUL_EVENT_SEQ_3', 'road_location', 'ROAD_DESCRIPTION', 'ROAD_CONTOUR', 'ROAD_CONDITION', 'LIGHT_CONDITION', 'TU1_VEHICLE_TYPE', 'TU1_TRAVEL_DIRECTION', 'TU1_VEHICLE_MOVEMENT', 'TU1_DRIVER_ACTION', 'TU1_DRIVER_HUMANCONTRIBFACTOR', 'TU1_PEDESTRIAN_ACTION', 'TU2_VEHICLE_TYPE', 'TU2_TRAVEL_DIRECTION', 'TU2_VEHICLE_MOVEMENT', 'TU2_DRIVER_ACTION', 'TU2_DRIVER_HUMANCONTRIBFACTOR', 'TU2_PEDESTRIAN_ACTION', 'FATALITY_MODE_1', 'FATALITY_MODE_2', 'SERIOUSLY_INJURED_MODE_1', 'SERIOUSLY_INJURED_MODE_2']\n",
    "\n",
    "for column in columns:\n",
    "    df[column] = df[column].apply(lambda x: x if x != '  ' else 'N/A')"
   ]
  },
  {
   "cell_type": "code",
   "execution_count": 7,
   "id": "0264b75e-9898-4bdb-8181-9f821cf5acc8",
   "metadata": {},
   "outputs": [
    {
     "data": {
      "text/html": [
       "<div>\n",
       "<style scoped>\n",
       "    .dataframe tbody tr th:only-of-type {\n",
       "        vertical-align: middle;\n",
       "    }\n",
       "\n",
       "    .dataframe tbody tr th {\n",
       "        vertical-align: top;\n",
       "    }\n",
       "\n",
       "    .dataframe thead th {\n",
       "        text-align: right;\n",
       "    }\n",
       "</style>\n",
       "<table border=\"1\" class=\"dataframe\">\n",
       "  <thead>\n",
       "    <tr style=\"text-align: right;\">\n",
       "      <th></th>\n",
       "      <th>top_traffic_accident_offense</th>\n",
       "      <th>first_occurrence_date</th>\n",
       "      <th>geo_lon</th>\n",
       "      <th>geo_lat</th>\n",
       "      <th>precinct_id</th>\n",
       "      <th>neighborhood_id</th>\n",
       "      <th>bicycle_ind</th>\n",
       "      <th>pedestrian_ind</th>\n",
       "      <th>HARMFUL_EVENT_SEQ_1</th>\n",
       "      <th>HARMFUL_EVENT_SEQ_2</th>\n",
       "      <th>HARMFUL_EVENT_SEQ_3</th>\n",
       "      <th>road_location</th>\n",
       "      <th>ROAD_DESCRIPTION</th>\n",
       "      <th>ROAD_CONTOUR</th>\n",
       "      <th>ROAD_CONDITION</th>\n",
       "      <th>LIGHT_CONDITION</th>\n",
       "      <th>TU1_VEHICLE_TYPE</th>\n",
       "      <th>TU1_TRAVEL_DIRECTION</th>\n",
       "      <th>TU1_VEHICLE_MOVEMENT</th>\n",
       "      <th>TU1_DRIVER_ACTION</th>\n",
       "      <th>TU1_DRIVER_HUMANCONTRIBFACTOR</th>\n",
       "      <th>TU1_PEDESTRIAN_ACTION</th>\n",
       "      <th>TU2_VEHICLE_TYPE</th>\n",
       "      <th>TU2_TRAVEL_DIRECTION</th>\n",
       "      <th>TU2_VEHICLE_MOVEMENT</th>\n",
       "      <th>TU2_DRIVER_ACTION</th>\n",
       "      <th>TU2_DRIVER_HUMANCONTRIBFACTOR</th>\n",
       "      <th>TU2_PEDESTRIAN_ACTION</th>\n",
       "      <th>SERIOUSLY_INJURED</th>\n",
       "      <th>FATALITIES</th>\n",
       "      <th>FATALITY_MODE_1</th>\n",
       "      <th>FATALITY_MODE_2</th>\n",
       "      <th>SERIOUSLY_INJURED_MODE_1</th>\n",
       "      <th>SERIOUSLY_INJURED_MODE_2</th>\n",
       "    </tr>\n",
       "  </thead>\n",
       "  <tbody>\n",
       "    <tr>\n",
       "      <th>0</th>\n",
       "      <td>TRAF - ACCIDENT - HIT &amp; RUN</td>\n",
       "      <td>2022-08-10 17:14:00</td>\n",
       "      <td>-104.94220053</td>\n",
       "      <td>39.68705042</td>\n",
       "      <td>312</td>\n",
       "      <td>Cory - Merrill</td>\n",
       "      <td>N/A</td>\n",
       "      <td>N/A</td>\n",
       "      <td>N/A</td>\n",
       "      <td>N/A</td>\n",
       "      <td>N/A</td>\n",
       "      <td>N/A</td>\n",
       "      <td>N/A</td>\n",
       "      <td>N/A</td>\n",
       "      <td>N/A</td>\n",
       "      <td>N/A</td>\n",
       "      <td>OTHER</td>\n",
       "      <td>OTHER</td>\n",
       "      <td>OTHER</td>\n",
       "      <td>OTHER</td>\n",
       "      <td>OTHER</td>\n",
       "      <td>OTHER</td>\n",
       "      <td>OTHER</td>\n",
       "      <td>OTHER</td>\n",
       "      <td>OTHER</td>\n",
       "      <td>OTHER</td>\n",
       "      <td>OTHER</td>\n",
       "      <td>OTHER</td>\n",
       "      <td>0</td>\n",
       "      <td>0</td>\n",
       "      <td>OTHER</td>\n",
       "      <td>OTHER</td>\n",
       "      <td>OTHER</td>\n",
       "      <td>OTHER</td>\n",
       "    </tr>\n",
       "    <tr>\n",
       "      <th>1</th>\n",
       "      <td>TRAF - ACCIDENT</td>\n",
       "      <td>2022-08-23 14:51:00</td>\n",
       "      <td>-104.84888408</td>\n",
       "      <td>39.78237891</td>\n",
       "      <td>511</td>\n",
       "      <td>Montbello</td>\n",
       "      <td>N/A</td>\n",
       "      <td>N/A</td>\n",
       "      <td>N/A</td>\n",
       "      <td>N/A</td>\n",
       "      <td>N/A</td>\n",
       "      <td>N/A</td>\n",
       "      <td>N/A</td>\n",
       "      <td>N/A</td>\n",
       "      <td>N/A</td>\n",
       "      <td>N/A</td>\n",
       "      <td>OTHER</td>\n",
       "      <td>OTHER</td>\n",
       "      <td>OTHER</td>\n",
       "      <td>OTHER</td>\n",
       "      <td>OTHER</td>\n",
       "      <td>OTHER</td>\n",
       "      <td>OTHER</td>\n",
       "      <td>OTHER</td>\n",
       "      <td>OTHER</td>\n",
       "      <td>OTHER</td>\n",
       "      <td>OTHER</td>\n",
       "      <td>OTHER</td>\n",
       "      <td>0</td>\n",
       "      <td>0</td>\n",
       "      <td>OTHER</td>\n",
       "      <td>OTHER</td>\n",
       "      <td>OTHER</td>\n",
       "      <td>OTHER</td>\n",
       "    </tr>\n",
       "    <tr>\n",
       "      <th>2</th>\n",
       "      <td>TRAF - ACCIDENT - HIT &amp; RUN</td>\n",
       "      <td>2022-08-23 09:30:00</td>\n",
       "      <td>-104.96225421</td>\n",
       "      <td>39.7368173</td>\n",
       "      <td>622</td>\n",
       "      <td>Cheesman Park</td>\n",
       "      <td>N/A</td>\n",
       "      <td>N/A</td>\n",
       "      <td>N/A</td>\n",
       "      <td>N/A</td>\n",
       "      <td>N/A</td>\n",
       "      <td>N/A</td>\n",
       "      <td>N/A</td>\n",
       "      <td>N/A</td>\n",
       "      <td>N/A</td>\n",
       "      <td>N/A</td>\n",
       "      <td>OTHER</td>\n",
       "      <td>OTHER</td>\n",
       "      <td>OTHER</td>\n",
       "      <td>OTHER</td>\n",
       "      <td>OTHER</td>\n",
       "      <td>OTHER</td>\n",
       "      <td>OTHER</td>\n",
       "      <td>OTHER</td>\n",
       "      <td>OTHER</td>\n",
       "      <td>OTHER</td>\n",
       "      <td>OTHER</td>\n",
       "      <td>OTHER</td>\n",
       "      <td>0</td>\n",
       "      <td>0</td>\n",
       "      <td>OTHER</td>\n",
       "      <td>OTHER</td>\n",
       "      <td>OTHER</td>\n",
       "      <td>OTHER</td>\n",
       "    </tr>\n",
       "    <tr>\n",
       "      <th>3</th>\n",
       "      <td>TRAF - ACCIDENT</td>\n",
       "      <td>2022-08-23 13:30:00</td>\n",
       "      <td>-104.92225975</td>\n",
       "      <td>39.70730246</td>\n",
       "      <td>322</td>\n",
       "      <td>Washington Virginia Vale</td>\n",
       "      <td>N/A</td>\n",
       "      <td>N/A</td>\n",
       "      <td>N/A</td>\n",
       "      <td>N/A</td>\n",
       "      <td>N/A</td>\n",
       "      <td>N/A</td>\n",
       "      <td>N/A</td>\n",
       "      <td>N/A</td>\n",
       "      <td>N/A</td>\n",
       "      <td>N/A</td>\n",
       "      <td>OTHER</td>\n",
       "      <td>OTHER</td>\n",
       "      <td>OTHER</td>\n",
       "      <td>OTHER</td>\n",
       "      <td>OTHER</td>\n",
       "      <td>OTHER</td>\n",
       "      <td>OTHER</td>\n",
       "      <td>OTHER</td>\n",
       "      <td>OTHER</td>\n",
       "      <td>OTHER</td>\n",
       "      <td>OTHER</td>\n",
       "      <td>OTHER</td>\n",
       "      <td>0</td>\n",
       "      <td>0</td>\n",
       "      <td>OTHER</td>\n",
       "      <td>OTHER</td>\n",
       "      <td>OTHER</td>\n",
       "      <td>OTHER</td>\n",
       "    </tr>\n",
       "    <tr>\n",
       "      <th>4</th>\n",
       "      <td>TRAF - ACCIDENT</td>\n",
       "      <td>2022-08-23 16:59:00</td>\n",
       "      <td>-104.95979281</td>\n",
       "      <td>39.74476731</td>\n",
       "      <td>622</td>\n",
       "      <td>City Park West</td>\n",
       "      <td>N/A</td>\n",
       "      <td>N/A</td>\n",
       "      <td>N/A</td>\n",
       "      <td>N/A</td>\n",
       "      <td>N/A</td>\n",
       "      <td>N/A</td>\n",
       "      <td>N/A</td>\n",
       "      <td>N/A</td>\n",
       "      <td>N/A</td>\n",
       "      <td>N/A</td>\n",
       "      <td>OTHER</td>\n",
       "      <td>OTHER</td>\n",
       "      <td>OTHER</td>\n",
       "      <td>OTHER</td>\n",
       "      <td>OTHER</td>\n",
       "      <td>OTHER</td>\n",
       "      <td>OTHER</td>\n",
       "      <td>OTHER</td>\n",
       "      <td>OTHER</td>\n",
       "      <td>OTHER</td>\n",
       "      <td>OTHER</td>\n",
       "      <td>OTHER</td>\n",
       "      <td>0</td>\n",
       "      <td>0</td>\n",
       "      <td>OTHER</td>\n",
       "      <td>OTHER</td>\n",
       "      <td>OTHER</td>\n",
       "      <td>OTHER</td>\n",
       "    </tr>\n",
       "  </tbody>\n",
       "</table>\n",
       "</div>"
      ],
      "text/plain": [
       "     top_traffic_accident_offense first_occurrence_date        geo_lon  \\\n",
       "0  TRAF - ACCIDENT - HIT & RUN      2022-08-10 17:14:00  -104.94220053   \n",
       "1  TRAF - ACCIDENT                  2022-08-23 14:51:00  -104.84888408   \n",
       "2  TRAF - ACCIDENT - HIT & RUN      2022-08-23 09:30:00  -104.96225421   \n",
       "3  TRAF - ACCIDENT                  2022-08-23 13:30:00  -104.92225975   \n",
       "4  TRAF - ACCIDENT                  2022-08-23 16:59:00  -104.95979281   \n",
       "\n",
       "       geo_lat precinct_id           neighborhood_id bicycle_ind  \\\n",
       "0  39.68705042         312            Cory - Merrill         N/A   \n",
       "1  39.78237891         511                 Montbello         N/A   \n",
       "2   39.7368173         622             Cheesman Park         N/A   \n",
       "3  39.70730246         322  Washington Virginia Vale         N/A   \n",
       "4  39.74476731         622            City Park West         N/A   \n",
       "\n",
       "  pedestrian_ind HARMFUL_EVENT_SEQ_1 HARMFUL_EVENT_SEQ_2 HARMFUL_EVENT_SEQ_3  \\\n",
       "0            N/A                 N/A                 N/A                 N/A   \n",
       "1            N/A                 N/A                 N/A                 N/A   \n",
       "2            N/A                 N/A                 N/A                 N/A   \n",
       "3            N/A                 N/A                 N/A                 N/A   \n",
       "4            N/A                 N/A                 N/A                 N/A   \n",
       "\n",
       "  road_location ROAD_DESCRIPTION ROAD_CONTOUR ROAD_CONDITION LIGHT_CONDITION  \\\n",
       "0           N/A              N/A          N/A            N/A             N/A   \n",
       "1           N/A              N/A          N/A            N/A             N/A   \n",
       "2           N/A              N/A          N/A            N/A             N/A   \n",
       "3           N/A              N/A          N/A            N/A             N/A   \n",
       "4           N/A              N/A          N/A            N/A             N/A   \n",
       "\n",
       "  TU1_VEHICLE_TYPE TU1_TRAVEL_DIRECTION TU1_VEHICLE_MOVEMENT  \\\n",
       "0            OTHER                OTHER                OTHER   \n",
       "1            OTHER                OTHER                OTHER   \n",
       "2            OTHER                OTHER                OTHER   \n",
       "3            OTHER                OTHER                OTHER   \n",
       "4            OTHER                OTHER                OTHER   \n",
       "\n",
       "  TU1_DRIVER_ACTION TU1_DRIVER_HUMANCONTRIBFACTOR TU1_PEDESTRIAN_ACTION  \\\n",
       "0             OTHER                         OTHER                 OTHER   \n",
       "1             OTHER                         OTHER                 OTHER   \n",
       "2             OTHER                         OTHER                 OTHER   \n",
       "3             OTHER                         OTHER                 OTHER   \n",
       "4             OTHER                         OTHER                 OTHER   \n",
       "\n",
       "  TU2_VEHICLE_TYPE TU2_TRAVEL_DIRECTION TU2_VEHICLE_MOVEMENT  \\\n",
       "0            OTHER                OTHER                OTHER   \n",
       "1            OTHER                OTHER                OTHER   \n",
       "2            OTHER                OTHER                OTHER   \n",
       "3            OTHER                OTHER                OTHER   \n",
       "4            OTHER                OTHER                OTHER   \n",
       "\n",
       "  TU2_DRIVER_ACTION TU2_DRIVER_HUMANCONTRIBFACTOR TU2_PEDESTRIAN_ACTION  \\\n",
       "0             OTHER                         OTHER                 OTHER   \n",
       "1             OTHER                         OTHER                 OTHER   \n",
       "2             OTHER                         OTHER                 OTHER   \n",
       "3             OTHER                         OTHER                 OTHER   \n",
       "4             OTHER                         OTHER                 OTHER   \n",
       "\n",
       "  SERIOUSLY_INJURED FATALITIES FATALITY_MODE_1 FATALITY_MODE_2  \\\n",
       "0                 0          0           OTHER           OTHER   \n",
       "1                 0          0           OTHER           OTHER   \n",
       "2                 0          0           OTHER           OTHER   \n",
       "3                 0          0           OTHER           OTHER   \n",
       "4                 0          0           OTHER           OTHER   \n",
       "\n",
       "  SERIOUSLY_INJURED_MODE_1 SERIOUSLY_INJURED_MODE_2  \n",
       "0                    OTHER                    OTHER  \n",
       "1                    OTHER                    OTHER  \n",
       "2                    OTHER                    OTHER  \n",
       "3                    OTHER                    OTHER  \n",
       "4                    OTHER                    OTHER  "
      ]
     },
     "execution_count": 7,
     "metadata": {},
     "output_type": "execute_result"
    }
   ],
   "source": [
    "df.head()"
   ]
  },
  {
   "cell_type": "markdown",
   "id": "6462b091-30c2-422a-99a1-030b39198b8d",
   "metadata": {
    "tags": []
   },
   "source": [
    "An interesting quirk of the dataset is the fact that some incidents are still under investigation, meaning their details are not open to the public:"
   ]
  },
  {
   "cell_type": "code",
   "execution_count": 8,
   "id": "28e49d9e-4362-4a57-9839-a81d75055ba2",
   "metadata": {},
   "outputs": [
    {
     "name": "stdout",
     "output_type": "stream",
     "text": [
      "top_traffic_accident_offense     TRAF - ACCIDENT - HIT & RUN   \n",
      "first_occurrence_date                       2022-10-26 05:17:00\n",
      "geo_lon                                           -104.90094414\n",
      "geo_lat                                             39.78310825\n",
      "precinct_id                                                 511\n",
      "neighborhood_id                                    Central Park\n",
      "bicycle_ind                                                 N/A\n",
      "pedestrian_ind                                              N/A\n",
      "HARMFUL_EVENT_SEQ_1                         UNDER INVESTIGATION\n",
      "HARMFUL_EVENT_SEQ_2                         UNDER INVESTIGATION\n",
      "HARMFUL_EVENT_SEQ_3                         UNDER INVESTIGATION\n",
      "road_location                               UNDER INVESTIGATION\n",
      "ROAD_DESCRIPTION                            UNDER INVESTIGATION\n",
      "ROAD_CONTOUR                                UNDER INVESTIGATION\n",
      "ROAD_CONDITION                              UNDER INVESTIGATION\n",
      "LIGHT_CONDITION                             UNDER INVESTIGATION\n",
      "TU1_VEHICLE_TYPE                            UNDER INVESTIGATION\n",
      "TU1_TRAVEL_DIRECTION                        UNDER INVESTIGATION\n",
      "TU1_VEHICLE_MOVEMENT                        UNDER INVESTIGATION\n",
      "TU1_DRIVER_ACTION                           UNDER INVESTIGATION\n",
      "TU1_DRIVER_HUMANCONTRIBFACTOR               UNDER INVESTIGATION\n",
      "TU1_PEDESTRIAN_ACTION                       UNDER INVESTIGATION\n",
      "TU2_VEHICLE_TYPE                            UNDER INVESTIGATION\n",
      "TU2_TRAVEL_DIRECTION                        UNDER INVESTIGATION\n",
      "TU2_VEHICLE_MOVEMENT                        UNDER INVESTIGATION\n",
      "TU2_DRIVER_ACTION                           UNDER INVESTIGATION\n",
      "TU2_DRIVER_HUMANCONTRIBFACTOR               UNDER INVESTIGATION\n",
      "TU2_PEDESTRIAN_ACTION                       UNDER INVESTIGATION\n",
      "SERIOUSLY_INJURED                                           N/A\n",
      "FATALITIES                                                  N/A\n",
      "FATALITY_MODE_1                             UNDER INVESTIGATION\n",
      "FATALITY_MODE_2                             UNDER INVESTIGATION\n",
      "SERIOUSLY_INJURED_MODE_1                    UNDER INVESTIGATION\n",
      "SERIOUSLY_INJURED_MODE_2                    UNDER INVESTIGATION\n",
      "Name: 68, dtype: object\n"
     ]
    }
   ],
   "source": [
    "print(df.iloc[68])"
   ]
  },
  {
   "cell_type": "markdown",
   "id": "fbc57efc-c1ca-4f9a-93d5-0bad37b6a0d3",
   "metadata": {
    "tags": []
   },
   "source": [
    "Since we're only interested in accidents whos information is public, we can remove these rows. We can also drop rows in which a date is not available. Other rows need to be cleaned for their N/A values as well:"
   ]
  },
  {
   "cell_type": "code",
   "execution_count": 9,
   "id": "0e76a741-6ed4-4185-a5a4-90b3199c86fc",
   "metadata": {},
   "outputs": [],
   "source": [
    "df['bicycle_ind'] = df['bicycle_ind'].apply(lambda x: x if x != 'N/A' else '0')\n",
    "df['pedestrian_ind'] = df['pedestrian_ind'].apply(lambda x: x if x != 'N/A' else '0')\n",
    "df = df[df['road_location'] != 'UNDER INVESTIGATION']\n",
    "df = df[df['first_occurrence_date'] != 'N/A']\n",
    "df = df[df['precinct_id'] != 'N/A']\n",
    "df = df[df['FATALITIES'] != 'N/A']\n",
    "df = df[df['geo_lat'] != 'N/A']\n",
    "df = df[df['geo_lon'] != 'N/A']\n",
    "df['FATALITIES'] = df['FATALITIES'].astype(int)\n",
    "df['SERIOUSLY_INJURED'] = df['SERIOUSLY_INJURED'].astype(int)\n",
    "df['precinct_id'] = df['precinct_id'].astype(int)\n",
    "df['geo_lat'] = df['geo_lat'].astype(float)\n",
    "df['geo_lon'] = df['geo_lon'].astype(float)\n",
    "df['bicycle_ind'] = df['bicycle_ind'].astype(int)\n",
    "df['pedestrian_ind'] = df['pedestrian_ind'].astype(int)\n"
   ]
  },
  {
   "cell_type": "markdown",
   "id": "69752606-1ed7-45a8-9d31-37e0e4b4b030",
   "metadata": {
    "tags": []
   },
   "source": [
    "Next, we'll focus our attention to cleaning the first_occurrence_date into separate columns to aid analysis of certain time dimensions. Thankfully each date is formatted similarly so separation should be simple:"
   ]
  },
  {
   "cell_type": "code",
   "execution_count": 10,
   "id": "077cd715-179f-44bb-bd9f-62ae119894ea",
   "metadata": {},
   "outputs": [
    {
     "data": {
      "text/html": [
       "<div>\n",
       "<style scoped>\n",
       "    .dataframe tbody tr th:only-of-type {\n",
       "        vertical-align: middle;\n",
       "    }\n",
       "\n",
       "    .dataframe tbody tr th {\n",
       "        vertical-align: top;\n",
       "    }\n",
       "\n",
       "    .dataframe thead th {\n",
       "        text-align: right;\n",
       "    }\n",
       "</style>\n",
       "<table border=\"1\" class=\"dataframe\">\n",
       "  <thead>\n",
       "    <tr style=\"text-align: right;\">\n",
       "      <th></th>\n",
       "      <th>top_traffic_accident_offense</th>\n",
       "      <th>geo_lon</th>\n",
       "      <th>geo_lat</th>\n",
       "      <th>precinct_id</th>\n",
       "      <th>neighborhood_id</th>\n",
       "      <th>bicycle_ind</th>\n",
       "      <th>pedestrian_ind</th>\n",
       "      <th>HARMFUL_EVENT_SEQ_1</th>\n",
       "      <th>HARMFUL_EVENT_SEQ_2</th>\n",
       "      <th>HARMFUL_EVENT_SEQ_3</th>\n",
       "      <th>road_location</th>\n",
       "      <th>ROAD_DESCRIPTION</th>\n",
       "      <th>ROAD_CONTOUR</th>\n",
       "      <th>ROAD_CONDITION</th>\n",
       "      <th>LIGHT_CONDITION</th>\n",
       "      <th>TU1_VEHICLE_TYPE</th>\n",
       "      <th>TU1_TRAVEL_DIRECTION</th>\n",
       "      <th>TU1_VEHICLE_MOVEMENT</th>\n",
       "      <th>TU1_DRIVER_ACTION</th>\n",
       "      <th>TU1_DRIVER_HUMANCONTRIBFACTOR</th>\n",
       "      <th>TU1_PEDESTRIAN_ACTION</th>\n",
       "      <th>TU2_VEHICLE_TYPE</th>\n",
       "      <th>TU2_TRAVEL_DIRECTION</th>\n",
       "      <th>TU2_VEHICLE_MOVEMENT</th>\n",
       "      <th>TU2_DRIVER_ACTION</th>\n",
       "      <th>TU2_DRIVER_HUMANCONTRIBFACTOR</th>\n",
       "      <th>TU2_PEDESTRIAN_ACTION</th>\n",
       "      <th>SERIOUSLY_INJURED</th>\n",
       "      <th>FATALITIES</th>\n",
       "      <th>FATALITY_MODE_1</th>\n",
       "      <th>FATALITY_MODE_2</th>\n",
       "      <th>SERIOUSLY_INJURED_MODE_1</th>\n",
       "      <th>SERIOUSLY_INJURED_MODE_2</th>\n",
       "      <th>Year</th>\n",
       "      <th>Month</th>\n",
       "      <th>Day</th>\n",
       "      <th>Hour</th>\n",
       "      <th>Minute</th>\n",
       "    </tr>\n",
       "  </thead>\n",
       "  <tbody>\n",
       "    <tr>\n",
       "      <th>0</th>\n",
       "      <td>TRAF - ACCIDENT - HIT &amp; RUN</td>\n",
       "      <td>-104.942201</td>\n",
       "      <td>39.687050</td>\n",
       "      <td>312</td>\n",
       "      <td>Cory - Merrill</td>\n",
       "      <td>0</td>\n",
       "      <td>0</td>\n",
       "      <td>N/A</td>\n",
       "      <td>N/A</td>\n",
       "      <td>N/A</td>\n",
       "      <td>N/A</td>\n",
       "      <td>N/A</td>\n",
       "      <td>N/A</td>\n",
       "      <td>N/A</td>\n",
       "      <td>N/A</td>\n",
       "      <td>OTHER</td>\n",
       "      <td>OTHER</td>\n",
       "      <td>OTHER</td>\n",
       "      <td>OTHER</td>\n",
       "      <td>OTHER</td>\n",
       "      <td>OTHER</td>\n",
       "      <td>OTHER</td>\n",
       "      <td>OTHER</td>\n",
       "      <td>OTHER</td>\n",
       "      <td>OTHER</td>\n",
       "      <td>OTHER</td>\n",
       "      <td>OTHER</td>\n",
       "      <td>0</td>\n",
       "      <td>0</td>\n",
       "      <td>OTHER</td>\n",
       "      <td>OTHER</td>\n",
       "      <td>OTHER</td>\n",
       "      <td>OTHER</td>\n",
       "      <td>2022</td>\n",
       "      <td>8</td>\n",
       "      <td>10</td>\n",
       "      <td>17</td>\n",
       "      <td>14</td>\n",
       "    </tr>\n",
       "    <tr>\n",
       "      <th>1</th>\n",
       "      <td>TRAF - ACCIDENT</td>\n",
       "      <td>-104.848884</td>\n",
       "      <td>39.782379</td>\n",
       "      <td>511</td>\n",
       "      <td>Montbello</td>\n",
       "      <td>0</td>\n",
       "      <td>0</td>\n",
       "      <td>N/A</td>\n",
       "      <td>N/A</td>\n",
       "      <td>N/A</td>\n",
       "      <td>N/A</td>\n",
       "      <td>N/A</td>\n",
       "      <td>N/A</td>\n",
       "      <td>N/A</td>\n",
       "      <td>N/A</td>\n",
       "      <td>OTHER</td>\n",
       "      <td>OTHER</td>\n",
       "      <td>OTHER</td>\n",
       "      <td>OTHER</td>\n",
       "      <td>OTHER</td>\n",
       "      <td>OTHER</td>\n",
       "      <td>OTHER</td>\n",
       "      <td>OTHER</td>\n",
       "      <td>OTHER</td>\n",
       "      <td>OTHER</td>\n",
       "      <td>OTHER</td>\n",
       "      <td>OTHER</td>\n",
       "      <td>0</td>\n",
       "      <td>0</td>\n",
       "      <td>OTHER</td>\n",
       "      <td>OTHER</td>\n",
       "      <td>OTHER</td>\n",
       "      <td>OTHER</td>\n",
       "      <td>2022</td>\n",
       "      <td>8</td>\n",
       "      <td>23</td>\n",
       "      <td>14</td>\n",
       "      <td>51</td>\n",
       "    </tr>\n",
       "    <tr>\n",
       "      <th>2</th>\n",
       "      <td>TRAF - ACCIDENT - HIT &amp; RUN</td>\n",
       "      <td>-104.962254</td>\n",
       "      <td>39.736817</td>\n",
       "      <td>622</td>\n",
       "      <td>Cheesman Park</td>\n",
       "      <td>0</td>\n",
       "      <td>0</td>\n",
       "      <td>N/A</td>\n",
       "      <td>N/A</td>\n",
       "      <td>N/A</td>\n",
       "      <td>N/A</td>\n",
       "      <td>N/A</td>\n",
       "      <td>N/A</td>\n",
       "      <td>N/A</td>\n",
       "      <td>N/A</td>\n",
       "      <td>OTHER</td>\n",
       "      <td>OTHER</td>\n",
       "      <td>OTHER</td>\n",
       "      <td>OTHER</td>\n",
       "      <td>OTHER</td>\n",
       "      <td>OTHER</td>\n",
       "      <td>OTHER</td>\n",
       "      <td>OTHER</td>\n",
       "      <td>OTHER</td>\n",
       "      <td>OTHER</td>\n",
       "      <td>OTHER</td>\n",
       "      <td>OTHER</td>\n",
       "      <td>0</td>\n",
       "      <td>0</td>\n",
       "      <td>OTHER</td>\n",
       "      <td>OTHER</td>\n",
       "      <td>OTHER</td>\n",
       "      <td>OTHER</td>\n",
       "      <td>2022</td>\n",
       "      <td>8</td>\n",
       "      <td>23</td>\n",
       "      <td>9</td>\n",
       "      <td>30</td>\n",
       "    </tr>\n",
       "    <tr>\n",
       "      <th>3</th>\n",
       "      <td>TRAF - ACCIDENT</td>\n",
       "      <td>-104.922260</td>\n",
       "      <td>39.707302</td>\n",
       "      <td>322</td>\n",
       "      <td>Washington Virginia Vale</td>\n",
       "      <td>0</td>\n",
       "      <td>0</td>\n",
       "      <td>N/A</td>\n",
       "      <td>N/A</td>\n",
       "      <td>N/A</td>\n",
       "      <td>N/A</td>\n",
       "      <td>N/A</td>\n",
       "      <td>N/A</td>\n",
       "      <td>N/A</td>\n",
       "      <td>N/A</td>\n",
       "      <td>OTHER</td>\n",
       "      <td>OTHER</td>\n",
       "      <td>OTHER</td>\n",
       "      <td>OTHER</td>\n",
       "      <td>OTHER</td>\n",
       "      <td>OTHER</td>\n",
       "      <td>OTHER</td>\n",
       "      <td>OTHER</td>\n",
       "      <td>OTHER</td>\n",
       "      <td>OTHER</td>\n",
       "      <td>OTHER</td>\n",
       "      <td>OTHER</td>\n",
       "      <td>0</td>\n",
       "      <td>0</td>\n",
       "      <td>OTHER</td>\n",
       "      <td>OTHER</td>\n",
       "      <td>OTHER</td>\n",
       "      <td>OTHER</td>\n",
       "      <td>2022</td>\n",
       "      <td>8</td>\n",
       "      <td>23</td>\n",
       "      <td>13</td>\n",
       "      <td>30</td>\n",
       "    </tr>\n",
       "    <tr>\n",
       "      <th>4</th>\n",
       "      <td>TRAF - ACCIDENT</td>\n",
       "      <td>-104.959793</td>\n",
       "      <td>39.744767</td>\n",
       "      <td>622</td>\n",
       "      <td>City Park West</td>\n",
       "      <td>0</td>\n",
       "      <td>0</td>\n",
       "      <td>N/A</td>\n",
       "      <td>N/A</td>\n",
       "      <td>N/A</td>\n",
       "      <td>N/A</td>\n",
       "      <td>N/A</td>\n",
       "      <td>N/A</td>\n",
       "      <td>N/A</td>\n",
       "      <td>N/A</td>\n",
       "      <td>OTHER</td>\n",
       "      <td>OTHER</td>\n",
       "      <td>OTHER</td>\n",
       "      <td>OTHER</td>\n",
       "      <td>OTHER</td>\n",
       "      <td>OTHER</td>\n",
       "      <td>OTHER</td>\n",
       "      <td>OTHER</td>\n",
       "      <td>OTHER</td>\n",
       "      <td>OTHER</td>\n",
       "      <td>OTHER</td>\n",
       "      <td>OTHER</td>\n",
       "      <td>0</td>\n",
       "      <td>0</td>\n",
       "      <td>OTHER</td>\n",
       "      <td>OTHER</td>\n",
       "      <td>OTHER</td>\n",
       "      <td>OTHER</td>\n",
       "      <td>2022</td>\n",
       "      <td>8</td>\n",
       "      <td>23</td>\n",
       "      <td>16</td>\n",
       "      <td>59</td>\n",
       "    </tr>\n",
       "  </tbody>\n",
       "</table>\n",
       "</div>"
      ],
      "text/plain": [
       "     top_traffic_accident_offense     geo_lon    geo_lat  precinct_id  \\\n",
       "0  TRAF - ACCIDENT - HIT & RUN    -104.942201  39.687050          312   \n",
       "1  TRAF - ACCIDENT                -104.848884  39.782379          511   \n",
       "2  TRAF - ACCIDENT - HIT & RUN    -104.962254  39.736817          622   \n",
       "3  TRAF - ACCIDENT                -104.922260  39.707302          322   \n",
       "4  TRAF - ACCIDENT                -104.959793  39.744767          622   \n",
       "\n",
       "            neighborhood_id  bicycle_ind  pedestrian_ind HARMFUL_EVENT_SEQ_1  \\\n",
       "0            Cory - Merrill            0               0                 N/A   \n",
       "1                 Montbello            0               0                 N/A   \n",
       "2             Cheesman Park            0               0                 N/A   \n",
       "3  Washington Virginia Vale            0               0                 N/A   \n",
       "4            City Park West            0               0                 N/A   \n",
       "\n",
       "  HARMFUL_EVENT_SEQ_2 HARMFUL_EVENT_SEQ_3 road_location ROAD_DESCRIPTION  \\\n",
       "0                 N/A                 N/A           N/A              N/A   \n",
       "1                 N/A                 N/A           N/A              N/A   \n",
       "2                 N/A                 N/A           N/A              N/A   \n",
       "3                 N/A                 N/A           N/A              N/A   \n",
       "4                 N/A                 N/A           N/A              N/A   \n",
       "\n",
       "  ROAD_CONTOUR ROAD_CONDITION LIGHT_CONDITION TU1_VEHICLE_TYPE  \\\n",
       "0          N/A            N/A             N/A            OTHER   \n",
       "1          N/A            N/A             N/A            OTHER   \n",
       "2          N/A            N/A             N/A            OTHER   \n",
       "3          N/A            N/A             N/A            OTHER   \n",
       "4          N/A            N/A             N/A            OTHER   \n",
       "\n",
       "  TU1_TRAVEL_DIRECTION TU1_VEHICLE_MOVEMENT TU1_DRIVER_ACTION  \\\n",
       "0                OTHER                OTHER             OTHER   \n",
       "1                OTHER                OTHER             OTHER   \n",
       "2                OTHER                OTHER             OTHER   \n",
       "3                OTHER                OTHER             OTHER   \n",
       "4                OTHER                OTHER             OTHER   \n",
       "\n",
       "  TU1_DRIVER_HUMANCONTRIBFACTOR TU1_PEDESTRIAN_ACTION TU2_VEHICLE_TYPE  \\\n",
       "0                         OTHER                 OTHER            OTHER   \n",
       "1                         OTHER                 OTHER            OTHER   \n",
       "2                         OTHER                 OTHER            OTHER   \n",
       "3                         OTHER                 OTHER            OTHER   \n",
       "4                         OTHER                 OTHER            OTHER   \n",
       "\n",
       "  TU2_TRAVEL_DIRECTION TU2_VEHICLE_MOVEMENT TU2_DRIVER_ACTION  \\\n",
       "0                OTHER                OTHER             OTHER   \n",
       "1                OTHER                OTHER             OTHER   \n",
       "2                OTHER                OTHER             OTHER   \n",
       "3                OTHER                OTHER             OTHER   \n",
       "4                OTHER                OTHER             OTHER   \n",
       "\n",
       "  TU2_DRIVER_HUMANCONTRIBFACTOR TU2_PEDESTRIAN_ACTION  SERIOUSLY_INJURED  \\\n",
       "0                         OTHER                 OTHER                  0   \n",
       "1                         OTHER                 OTHER                  0   \n",
       "2                         OTHER                 OTHER                  0   \n",
       "3                         OTHER                 OTHER                  0   \n",
       "4                         OTHER                 OTHER                  0   \n",
       "\n",
       "   FATALITIES FATALITY_MODE_1 FATALITY_MODE_2 SERIOUSLY_INJURED_MODE_1  \\\n",
       "0           0           OTHER           OTHER                    OTHER   \n",
       "1           0           OTHER           OTHER                    OTHER   \n",
       "2           0           OTHER           OTHER                    OTHER   \n",
       "3           0           OTHER           OTHER                    OTHER   \n",
       "4           0           OTHER           OTHER                    OTHER   \n",
       "\n",
       "  SERIOUSLY_INJURED_MODE_2  Year  Month  Day  Hour  Minute  \n",
       "0                    OTHER  2022      8   10    17      14  \n",
       "1                    OTHER  2022      8   23    14      51  \n",
       "2                    OTHER  2022      8   23     9      30  \n",
       "3                    OTHER  2022      8   23    13      30  \n",
       "4                    OTHER  2022      8   23    16      59  "
      ]
     },
     "execution_count": 10,
     "metadata": {},
     "output_type": "execute_result"
    }
   ],
   "source": [
    "df['Year'] = df['first_occurrence_date'].apply(lambda x: int(x[:4]))\n",
    "df['Month'] = df['first_occurrence_date'].apply(lambda x: int(x[5:7]))\n",
    "df['Day'] = df['first_occurrence_date'].apply(lambda x: int(x[8:10]))\n",
    "df['Hour'] = df['first_occurrence_date'].apply(lambda x: int(x[11:13]))\n",
    "df['Minute'] = df['first_occurrence_date'].apply(lambda x: int(x[14:16]))\n",
    "df = df.drop(columns=['first_occurrence_date'])\n",
    "df.head()"
   ]
  },
  {
   "cell_type": "markdown",
   "id": "e43cb73f-01f3-4e47-bbfc-40076a14987f",
   "metadata": {},
   "source": [
    "Since the vision zero goals were made in 2016, lets confine our data to 2016 onward to track the city's progress:"
   ]
  },
  {
   "cell_type": "code",
   "execution_count": 11,
   "id": "22c1d886-cf14-48c6-a92e-0da67700d878",
   "metadata": {},
   "outputs": [],
   "source": [
    "df = df[df['Year'] >= 2016]"
   ]
  },
  {
   "cell_type": "markdown",
   "id": "bcc64104-dead-4aa7-b70d-d0e6a83afd16",
   "metadata": {
    "tags": []
   },
   "source": [
    "With some initial data cleaning out of the way, we can move on to understanding broad characteristics of the data with an Exploratory Data Analysis."
   ]
  },
  {
   "cell_type": "markdown",
   "id": "25776208-5e77-42df-aae8-755e54083d27",
   "metadata": {},
   "source": [
    "## Exploratory Data Analysis (EDA)"
   ]
  },
  {
   "cell_type": "markdown",
   "id": "88445909-0b55-46ba-b0df-f73599cf7e3b",
   "metadata": {},
   "source": [
    "To kick off our Exploratory Data Analysis, we'll first take a look at where accidents are occurring and how often. To do this, we'll examine the frequency of each neighborhood in the accident dataset and compute summary statistics:"
   ]
  },
  {
   "cell_type": "code",
   "execution_count": 12,
   "id": "408b2796-f40d-4bde-a25e-9ca1c671e1a8",
   "metadata": {},
   "outputs": [],
   "source": [
    "neighborhood_freq_dict = {}\n",
    "for elem in df['neighborhood_id']:\n",
    "    if elem in neighborhood_freq_dict:\n",
    "        neighborhood_freq_dict[elem] += 1\n",
    "    else:\n",
    "        neighborhood_freq_dict[elem] = 1\n",
    "neighborhood_df = pd.DataFrame.from_dict(neighborhood_freq_dict, orient='index')"
   ]
  },
  {
   "cell_type": "markdown",
   "id": "dccc8bec-ff4b-4b2a-87c2-64cae3cf8523",
   "metadata": {},
   "source": [
    "Let's look at the neighborhood frequencies dataframe and see what values the mean, median, and quartiles take on:"
   ]
  },
  {
   "cell_type": "code",
   "execution_count": 13,
   "id": "c73eb815-ee12-43d9-af78-694eb33156c5",
   "metadata": {},
   "outputs": [
    {
     "data": {
      "text/html": [
       "<div>\n",
       "<style scoped>\n",
       "    .dataframe tbody tr th:only-of-type {\n",
       "        vertical-align: middle;\n",
       "    }\n",
       "\n",
       "    .dataframe tbody tr th {\n",
       "        vertical-align: top;\n",
       "    }\n",
       "\n",
       "    .dataframe thead th {\n",
       "        text-align: right;\n",
       "    }\n",
       "</style>\n",
       "<table border=\"1\" class=\"dataframe\">\n",
       "  <thead>\n",
       "    <tr style=\"text-align: right;\">\n",
       "      <th></th>\n",
       "      <th>0</th>\n",
       "    </tr>\n",
       "  </thead>\n",
       "  <tbody>\n",
       "    <tr>\n",
       "      <th>Cory - Merrill</th>\n",
       "      <td>836</td>\n",
       "    </tr>\n",
       "    <tr>\n",
       "      <th>Montbello</th>\n",
       "      <td>3974</td>\n",
       "    </tr>\n",
       "    <tr>\n",
       "      <th>Cheesman Park</th>\n",
       "      <td>1795</td>\n",
       "    </tr>\n",
       "    <tr>\n",
       "      <th>Washington Virginia Vale</th>\n",
       "      <td>2306</td>\n",
       "    </tr>\n",
       "    <tr>\n",
       "      <th>City Park West</th>\n",
       "      <td>1569</td>\n",
       "    </tr>\n",
       "    <tr>\n",
       "      <th>...</th>\n",
       "      <td>...</td>\n",
       "    </tr>\n",
       "    <tr>\n",
       "      <th>Country Club</th>\n",
       "      <td>431</td>\n",
       "    </tr>\n",
       "    <tr>\n",
       "      <th>Auraria</th>\n",
       "      <td>1506</td>\n",
       "    </tr>\n",
       "    <tr>\n",
       "      <th>Kennedy</th>\n",
       "      <td>370</td>\n",
       "    </tr>\n",
       "    <tr>\n",
       "      <th>Indian Creek</th>\n",
       "      <td>128</td>\n",
       "    </tr>\n",
       "    <tr>\n",
       "      <th>Wellshire</th>\n",
       "      <td>162</td>\n",
       "    </tr>\n",
       "  </tbody>\n",
       "</table>\n",
       "<p>79 rows × 1 columns</p>\n",
       "</div>"
      ],
      "text/plain": [
       "                             0\n",
       "Cory - Merrill             836\n",
       "Montbello                 3974\n",
       "Cheesman Park             1795\n",
       "Washington Virginia Vale  2306\n",
       "City Park West            1569\n",
       "...                        ...\n",
       "Country Club               431\n",
       "Auraria                   1506\n",
       "Kennedy                    370\n",
       "Indian Creek               128\n",
       "Wellshire                  162\n",
       "\n",
       "[79 rows x 1 columns]"
      ]
     },
     "execution_count": 13,
     "metadata": {},
     "output_type": "execute_result"
    }
   ],
   "source": [
    "neighborhood_df"
   ]
  },
  {
   "cell_type": "code",
   "execution_count": 14,
   "id": "5c96f86a-d2bb-4503-9358-4e554a5f6100",
   "metadata": {},
   "outputs": [
    {
     "data": {
      "text/html": [
       "<div>\n",
       "<style scoped>\n",
       "    .dataframe tbody tr th:only-of-type {\n",
       "        vertical-align: middle;\n",
       "    }\n",
       "\n",
       "    .dataframe tbody tr th {\n",
       "        vertical-align: top;\n",
       "    }\n",
       "\n",
       "    .dataframe thead th {\n",
       "        text-align: right;\n",
       "    }\n",
       "</style>\n",
       "<table border=\"1\" class=\"dataframe\">\n",
       "  <thead>\n",
       "    <tr style=\"text-align: right;\">\n",
       "      <th></th>\n",
       "      <th>0</th>\n",
       "    </tr>\n",
       "  </thead>\n",
       "  <tbody>\n",
       "    <tr>\n",
       "      <th>count</th>\n",
       "      <td>79.000000</td>\n",
       "    </tr>\n",
       "    <tr>\n",
       "      <th>mean</th>\n",
       "      <td>1834.506329</td>\n",
       "    </tr>\n",
       "    <tr>\n",
       "      <th>std</th>\n",
       "      <td>1398.914404</td>\n",
       "    </tr>\n",
       "    <tr>\n",
       "      <th>min</th>\n",
       "      <td>128.000000</td>\n",
       "    </tr>\n",
       "    <tr>\n",
       "      <th>25%</th>\n",
       "      <td>912.500000</td>\n",
       "    </tr>\n",
       "    <tr>\n",
       "      <th>50%</th>\n",
       "      <td>1521.000000</td>\n",
       "    </tr>\n",
       "    <tr>\n",
       "      <th>75%</th>\n",
       "      <td>2325.000000</td>\n",
       "    </tr>\n",
       "    <tr>\n",
       "      <th>max</th>\n",
       "      <td>8069.000000</td>\n",
       "    </tr>\n",
       "  </tbody>\n",
       "</table>\n",
       "</div>"
      ],
      "text/plain": [
       "                 0\n",
       "count    79.000000\n",
       "mean   1834.506329\n",
       "std    1398.914404\n",
       "min     128.000000\n",
       "25%     912.500000\n",
       "50%    1521.000000\n",
       "75%    2325.000000\n",
       "max    8069.000000"
      ]
     },
     "execution_count": 14,
     "metadata": {},
     "output_type": "execute_result"
    }
   ],
   "source": [
    "neighborhood_df.describe()"
   ]
  },
  {
   "cell_type": "markdown",
   "id": "b96905e9-080b-41c0-9ed6-29ae061dede1",
   "metadata": {},
   "source": [
    "Now let's plot the data to gain visual understanding of how the frequencies are distributed:"
   ]
  },
  {
   "cell_type": "code",
   "execution_count": 15,
   "id": "23595555-9b4b-4014-9591-e144b9049337",
   "metadata": {},
   "outputs": [
    {
     "data": {
      "image/png": "[encoded data removed]",
      "text/plain": [
       "<Figure size 1440x432 with 1 Axes>"
      ]
     },
     "metadata": {
      "needs_background": "light"
     },
     "output_type": "display_data"
    }
   ],
   "source": [
    "fig=plt.figure(figsize=(20,6))\n",
    "plt.xticks(rotation=90)\n",
    "plt.bar(neighborhood_freq_dict.keys(), neighborhood_freq_dict.values());"
   ]
  },
  {
   "cell_type": "markdown",
   "id": "49557312-8a6f-4c2f-a2be-91bd4738b6a5",
   "metadata": {},
   "source": [
    "Let's now see how often certain road conditions are present in traffic accidents. To accomplish this, we'll iterate through the road condition column of our dataframe and count the frequency of road condition classifications:"
   ]
  },
  {
   "cell_type": "code",
   "execution_count": 16,
   "id": "0c947f06-4d98-4a37-933f-e77443503ef4",
   "metadata": {},
   "outputs": [],
   "source": [
    "road_condition_freq_dict = {}\n",
    "for elem in df['ROAD_CONDITION']:\n",
    "    if elem in road_condition_freq_dict:\n",
    "        road_condition_freq_dict[elem] += 1\n",
    "    else:\n",
    "        road_condition_freq_dict[elem] = 1\n",
    "road_condition_df = pd.DataFrame.from_dict(road_condition_freq_dict, orient='index')"
   ]
  },
  {
   "cell_type": "code",
   "execution_count": 17,
   "id": "c924a325-445f-4896-8e66-793b6d46fc8e",
   "metadata": {},
   "outputs": [
    {
     "data": {
      "text/html": [
       "<div>\n",
       "<style scoped>\n",
       "    .dataframe tbody tr th:only-of-type {\n",
       "        vertical-align: middle;\n",
       "    }\n",
       "\n",
       "    .dataframe tbody tr th {\n",
       "        vertical-align: top;\n",
       "    }\n",
       "\n",
       "    .dataframe thead th {\n",
       "        text-align: right;\n",
       "    }\n",
       "</style>\n",
       "<table border=\"1\" class=\"dataframe\">\n",
       "  <thead>\n",
       "    <tr style=\"text-align: right;\">\n",
       "      <th></th>\n",
       "      <th>0</th>\n",
       "    </tr>\n",
       "  </thead>\n",
       "  <tbody>\n",
       "    <tr>\n",
       "      <th>N/A</th>\n",
       "      <td>21515</td>\n",
       "    </tr>\n",
       "    <tr>\n",
       "      <th>DRY</th>\n",
       "      <td>108706</td>\n",
       "    </tr>\n",
       "    <tr>\n",
       "      <th>SNOWY</th>\n",
       "      <td>2769</td>\n",
       "    </tr>\n",
       "    <tr>\n",
       "      <th>WET</th>\n",
       "      <td>7270</td>\n",
       "    </tr>\n",
       "    <tr>\n",
       "      <th>ICY</th>\n",
       "      <td>3315</td>\n",
       "    </tr>\n",
       "    <tr>\n",
       "      <th>ICY WITH VISIBLE ICY ROAD TREATMENT</th>\n",
       "      <td>84</td>\n",
       "    </tr>\n",
       "    <tr>\n",
       "      <th>SLUSHY</th>\n",
       "      <td>687</td>\n",
       "    </tr>\n",
       "    <tr>\n",
       "      <th>SNOWY WITH VISIBLE ICY ROAD TREATMENT</th>\n",
       "      <td>204</td>\n",
       "    </tr>\n",
       "    <tr>\n",
       "      <th>DRY WITH VISIBLE ICY ROAD TREATMENT</th>\n",
       "      <td>114</td>\n",
       "    </tr>\n",
       "    <tr>\n",
       "      <th>MUDDY</th>\n",
       "      <td>35</td>\n",
       "    </tr>\n",
       "    <tr>\n",
       "      <th>WET WITH VISIBLE ICY ROAD TREATMENT</th>\n",
       "      <td>124</td>\n",
       "    </tr>\n",
       "    <tr>\n",
       "      <th>SLUSHY WITH VISIBLE ICY ROAD TREATMENT</th>\n",
       "      <td>84</td>\n",
       "    </tr>\n",
       "    <tr>\n",
       "      <th>FOREIGN MATERIAL</th>\n",
       "      <td>19</td>\n",
       "    </tr>\n",
       "  </tbody>\n",
       "</table>\n",
       "</div>"
      ],
      "text/plain": [
       "                                             0\n",
       "N/A                                      21515\n",
       "DRY                                     108706\n",
       "SNOWY                                     2769\n",
       "WET                                       7270\n",
       "ICY                                       3315\n",
       "ICY WITH VISIBLE ICY ROAD TREATMENT         84\n",
       "SLUSHY                                     687\n",
       "SNOWY WITH VISIBLE ICY ROAD TREATMENT      204\n",
       "DRY WITH VISIBLE ICY ROAD TREATMENT        114\n",
       "MUDDY                                       35\n",
       "WET WITH VISIBLE ICY ROAD TREATMENT        124\n",
       "SLUSHY WITH VISIBLE ICY ROAD TREATMENT      84\n",
       "FOREIGN MATERIAL                            19"
      ]
     },
     "execution_count": 17,
     "metadata": {},
     "output_type": "execute_result"
    }
   ],
   "source": [
    "road_condition_df"
   ]
  },
  {
   "cell_type": "markdown",
   "id": "bc398726-e2f5-4d4d-ba61-0f4deb85ad46",
   "metadata": {},
   "source": [
    "Plotting the data:"
   ]
  },
  {
   "cell_type": "code",
   "execution_count": 18,
   "id": "4763b598-aeac-44c4-8b9f-aa6684295308",
   "metadata": {},
   "outputs": [
    {
     "data": {
      "image/png": "[encoded data removed]",
      "text/plain": [
       "<Figure size 1440x432 with 1 Axes>"
      ]
     },
     "metadata": {
      "needs_background": "light"
     },
     "output_type": "display_data"
    }
   ],
   "source": [
    "fig=plt.figure(figsize=(20,6))\n",
    "plt.xticks(rotation=90)\n",
    "plt.bar(road_condition_freq_dict.keys(), road_condition_freq_dict.values());"
   ]
  },
  {
   "cell_type": "markdown",
   "id": "813a1da0-8a0e-44cc-8bc3-681b1cb42e4e",
   "metadata": {},
   "source": [
    "We can carry out a process similar to the one used to determine the frequency of certain road conditions, except this time we will take a look at the type of vehicle involved in the accident: "
   ]
  },
  {
   "cell_type": "code",
   "execution_count": 19,
   "id": "020e0897-49d0-4793-a185-6f5861422e21",
   "metadata": {},
   "outputs": [],
   "source": [
    "vehicle_freq_dict = {}\n",
    "for elem in df['TU1_VEHICLE_TYPE']:\n",
    "    if elem in vehicle_freq_dict:\n",
    "        vehicle_freq_dict[elem] += 1\n",
    "    else:\n",
    "        vehicle_freq_dict[elem] = 1"
   ]
  },
  {
   "cell_type": "markdown",
   "id": "d8a643c1-1cd3-4182-b49b-48097a1c1904",
   "metadata": {},
   "source": [
    "Plotting the data:"
   ]
  },
  {
   "cell_type": "code",
   "execution_count": 20,
   "id": "8d9569d9-9db4-4d3d-83ac-5b3d782af25c",
   "metadata": {},
   "outputs": [
    {
     "data": {
      "image/png": "[encoded data removed]",
      "text/plain": [
       "<Figure size 1440x432 with 1 Axes>"
      ]
     },
     "metadata": {
      "needs_background": "light"
     },
     "output_type": "display_data"
    }
   ],
   "source": [
    "fig=plt.figure(figsize=(20,6))\n",
    "plt.xticks(rotation=90)\n",
    "plt.bar(vehicle_freq_dict.keys(), vehicle_freq_dict.values());"
   ]
  },
  {
   "cell_type": "markdown",
   "id": "ff156b87-b8c8-41ab-b887-9b728ebdfe39",
   "metadata": {},
   "source": [
    "Now lets take a look at the time data associated with traffic accidents. This can be accomplished by creating a histogram of the data using the pandas built-in proxy to matplotlib, and viewing how the number of accidents has changed over time:"
   ]
  },
  {
   "cell_type": "code",
   "execution_count": 21,
   "id": "b5f3df5a-dc93-4227-bed1-95d47c2450c2",
   "metadata": {},
   "outputs": [
    {
     "data": {
      "image/png": "[encoded data removed]",
      "text/plain": [
       "<Figure size 432x288 with 1 Axes>"
      ]
     },
     "metadata": {
      "needs_background": "light"
     },
     "output_type": "display_data"
    }
   ],
   "source": [
    "df['Year'].sort_values().hist(grid=False);"
   ]
  },
  {
   "cell_type": "markdown",
   "id": "1154c0a2-efe8-48c6-ba3f-46304677e525",
   "metadata": {},
   "source": [
    "A similar process is used to track at what time of the day accidents occur:"
   ]
  },
  {
   "cell_type": "code",
   "execution_count": 22,
   "id": "03948b16-7a10-424c-9986-d9ddbff95334",
   "metadata": {},
   "outputs": [
    {
     "data": {
      "image/png": "[encoded data removed]",
      "text/plain": [
       "<Figure size 432x288 with 1 Axes>"
      ]
     },
     "metadata": {
      "needs_background": "light"
     },
     "output_type": "display_data"
    }
   ],
   "source": [
    "df['Hour'].sort_values().hist(bins=24, grid=False);"
   ]
  },
  {
   "cell_type": "markdown",
   "id": "9088650f-47fb-4e12-9586-410be34650d4",
   "metadata": {},
   "source": [
    "Now, lets take a look at the correlation matrix for the continuous (integer or floating-point) values in the dataset:"
   ]
  },
  {
   "cell_type": "code",
   "execution_count": 23,
   "id": "415c14a2-6aba-492d-8c0e-687e1973e093",
   "metadata": {},
   "outputs": [
    {
     "data": {
      "text/html": [
       "<style type=\"text/css\">\n",
       "#T_197c5_row0_col0, #T_197c5_row1_col1, #T_197c5_row2_col2, #T_197c5_row3_col3, #T_197c5_row4_col4, #T_197c5_row5_col5, #T_197c5_row6_col6, #T_197c5_row7_col7, #T_197c5_row8_col8, #T_197c5_row9_col9, #T_197c5_row10_col10, #T_197c5_row11_col11 {\n",
       "  background-color: #fef8fe;\n",
       "  color: #000000;\n",
       "}\n",
       "#T_197c5_row0_col1 {\n",
       "  background-color: #06ff15;\n",
       "  color: #000000;\n",
       "}\n",
       "#T_197c5_row0_col2, #T_197c5_row2_col0 {\n",
       "  background-color: #53d600;\n",
       "  color: #000000;\n",
       "}\n",
       "#T_197c5_row0_col3, #T_197c5_row1_col9, #T_197c5_row4_col0, #T_197c5_row4_col1, #T_197c5_row9_col1, #T_197c5_row10_col0, #T_197c5_row10_col9, #T_197c5_row11_col1, #T_197c5_row11_col9 {\n",
       "  background-color: #000777;\n",
       "  color: #f1f1f1;\n",
       "}\n",
       "#T_197c5_row0_col4, #T_197c5_row0_col9, #T_197c5_row2_col9, #T_197c5_row3_col9, #T_197c5_row6_col1, #T_197c5_row6_col9, #T_197c5_row7_col9 {\n",
       "  background-color: #000f6d;\n",
       "  color: #f1f1f1;\n",
       "}\n",
       "#T_197c5_row0_col5, #T_197c5_row1_col4, #T_197c5_row1_col5, #T_197c5_row2_col5, #T_197c5_row5_col2, #T_197c5_row6_col0, #T_197c5_row7_col10, #T_197c5_row9_col2, #T_197c5_row10_col2 {\n",
       "  background-color: #002451;\n",
       "  color: #f1f1f1;\n",
       "}\n",
       "#T_197c5_row0_col6, #T_197c5_row1_col6, #T_197c5_row2_col6, #T_197c5_row3_col0, #T_197c5_row4_col9, #T_197c5_row5_col9, #T_197c5_row7_col3, #T_197c5_row7_col4, #T_197c5_row7_col5, #T_197c5_row7_col6, #T_197c5_row7_col8, #T_197c5_row8_col6, #T_197c5_row8_col7, #T_197c5_row8_col9, #T_197c5_row9_col6, #T_197c5_row10_col1, #T_197c5_row10_col6, #T_197c5_row10_col11, #T_197c5_row11_col2, #T_197c5_row11_col6, #T_197c5_row11_col10 {\n",
       "  background-color: #000080;\n",
       "  color: #f1f1f1;\n",
       "}\n",
       "#T_197c5_row0_col7, #T_197c5_row0_col8, #T_197c5_row1_col8, #T_197c5_row2_col1, #T_197c5_row2_col4, #T_197c5_row4_col8, #T_197c5_row9_col7, #T_197c5_row10_col8 {\n",
       "  background-color: #005127;\n",
       "  color: #f1f1f1;\n",
       "}\n",
       "#T_197c5_row0_col10, #T_197c5_row2_col11, #T_197c5_row4_col3, #T_197c5_row6_col2, #T_197c5_row7_col2, #T_197c5_row8_col1, #T_197c5_row8_col2, #T_197c5_row9_col4 {\n",
       "  background-color: #001d5a;\n",
       "  color: #f1f1f1;\n",
       "}\n",
       "#T_197c5_row0_col11, #T_197c5_row1_col11, #T_197c5_row4_col7, #T_197c5_row7_col1, #T_197c5_row8_col0, #T_197c5_row8_col5, #T_197c5_row8_col11, #T_197c5_row9_col3 {\n",
       "  background-color: #00333e;\n",
       "  color: #f1f1f1;\n",
       "}\n",
       "#T_197c5_row1_col0 {\n",
       "  background-color: #13fb00;\n",
       "  color: #000000;\n",
       "}\n",
       "#T_197c5_row1_col2, #T_197c5_row3_col8 {\n",
       "  background-color: #004448;\n",
       "  color: #f1f1f1;\n",
       "}\n",
       "#T_197c5_row1_col3, #T_197c5_row8_col4, #T_197c5_row9_col10, #T_197c5_row9_col11, #T_197c5_row11_col3 {\n",
       "  background-color: #003a35;\n",
       "  color: #f1f1f1;\n",
       "}\n",
       "#T_197c5_row1_col7 {\n",
       "  background-color: #003d59;\n",
       "  color: #f1f1f1;\n",
       "}\n",
       "#T_197c5_row1_col10, #T_197c5_row3_col7, #T_197c5_row5_col0, #T_197c5_row7_col0, #T_197c5_row7_col11, #T_197c5_row9_col0, #T_197c5_row10_col5, #T_197c5_row11_col4, #T_197c5_row11_col5 {\n",
       "  background-color: #002c48;\n",
       "  color: #f1f1f1;\n",
       "}\n",
       "#T_197c5_row2_col3, #T_197c5_row2_col8 {\n",
       "  background-color: #005816;\n",
       "  color: #f1f1f1;\n",
       "}\n",
       "#T_197c5_row2_col7, #T_197c5_row4_col2, #T_197c5_row4_col10, #T_197c5_row6_col7, #T_197c5_row6_col8, #T_197c5_row11_col8 {\n",
       "  background-color: #005f06;\n",
       "  color: #f1f1f1;\n",
       "}\n",
       "#T_197c5_row2_col10, #T_197c5_row5_col10, #T_197c5_row5_col11, #T_197c5_row6_col3, #T_197c5_row8_col3, #T_197c5_row8_col10, #T_197c5_row10_col7 {\n",
       "  background-color: #004922;\n",
       "  color: #f1f1f1;\n",
       "}\n",
       "#T_197c5_row3_col1, #T_197c5_row3_col4, #T_197c5_row3_col6, #T_197c5_row5_col1, #T_197c5_row9_col5, #T_197c5_row11_col0 {\n",
       "  background-color: #001664;\n",
       "  color: #f1f1f1;\n",
       "}\n",
       "#T_197c5_row3_col2, #T_197c5_row10_col3, #T_197c5_row10_col4, #T_197c5_row11_col7 {\n",
       "  background-color: #005019;\n",
       "  color: #f1f1f1;\n",
       "}\n",
       "#T_197c5_row3_col5 {\n",
       "  background-color: #002f7a;\n",
       "  color: #f1f1f1;\n",
       "}\n",
       "#T_197c5_row3_col10, #T_197c5_row9_col8 {\n",
       "  background-color: #00580f;\n",
       "  color: #f1f1f1;\n",
       "}\n",
       "#T_197c5_row3_col11, #T_197c5_row4_col11, #T_197c5_row5_col7, #T_197c5_row6_col10, #T_197c5_row6_col11 {\n",
       "  background-color: #00422b;\n",
       "  color: #f1f1f1;\n",
       "}\n",
       "#T_197c5_row4_col5 {\n",
       "  background-color: #00d7ff;\n",
       "  color: #000000;\n",
       "}\n",
       "#T_197c5_row4_col6 {\n",
       "  background-color: #0007de;\n",
       "  color: #f1f1f1;\n",
       "}\n",
       "#T_197c5_row5_col3 {\n",
       "  background-color: #00229b;\n",
       "  color: #f1f1f1;\n",
       "}\n",
       "#T_197c5_row5_col4 {\n",
       "  background-color: #00e0ff;\n",
       "  color: #000000;\n",
       "}\n",
       "#T_197c5_row5_col6 {\n",
       "  background-color: #00298b;\n",
       "  color: #f1f1f1;\n",
       "}\n",
       "#T_197c5_row5_col8 {\n",
       "  background-color: #004b37;\n",
       "  color: #f1f1f1;\n",
       "}\n",
       "#T_197c5_row6_col4 {\n",
       "  background-color: #0047ff;\n",
       "  color: #f1f1f1;\n",
       "}\n",
       "#T_197c5_row6_col5 {\n",
       "  background-color: #000ecd;\n",
       "  color: #f1f1f1;\n",
       "}\n",
       "</style>\n",
       "<table id=\"T_197c5\">\n",
       "  <thead>\n",
       "    <tr>\n",
       "      <th class=\"blank level0\" >&nbsp;</th>\n",
       "      <th id=\"T_197c5_level0_col0\" class=\"col_heading level0 col0\" >geo_lon</th>\n",
       "      <th id=\"T_197c5_level0_col1\" class=\"col_heading level0 col1\" >geo_lat</th>\n",
       "      <th id=\"T_197c5_level0_col2\" class=\"col_heading level0 col2\" >precinct_id</th>\n",
       "      <th id=\"T_197c5_level0_col3\" class=\"col_heading level0 col3\" >bicycle_ind</th>\n",
       "      <th id=\"T_197c5_level0_col4\" class=\"col_heading level0 col4\" >pedestrian_ind</th>\n",
       "      <th id=\"T_197c5_level0_col5\" class=\"col_heading level0 col5\" >SERIOUSLY_INJURED</th>\n",
       "      <th id=\"T_197c5_level0_col6\" class=\"col_heading level0 col6\" >FATALITIES</th>\n",
       "      <th id=\"T_197c5_level0_col7\" class=\"col_heading level0 col7\" >Year</th>\n",
       "      <th id=\"T_197c5_level0_col8\" class=\"col_heading level0 col8\" >Month</th>\n",
       "      <th id=\"T_197c5_level0_col9\" class=\"col_heading level0 col9\" >Day</th>\n",
       "      <th id=\"T_197c5_level0_col10\" class=\"col_heading level0 col10\" >Hour</th>\n",
       "      <th id=\"T_197c5_level0_col11\" class=\"col_heading level0 col11\" >Minute</th>\n",
       "    </tr>\n",
       "  </thead>\n",
       "  <tbody>\n",
       "    <tr>\n",
       "      <th id=\"T_197c5_level0_row0\" class=\"row_heading level0 row0\" >geo_lon</th>\n",
       "      <td id=\"T_197c5_row0_col0\" class=\"data row0 col0\" >1.000000</td>\n",
       "      <td id=\"T_197c5_row0_col1\" class=\"data row0 col1\" >0.307467</td>\n",
       "      <td id=\"T_197c5_row0_col2\" class=\"data row0 col2\" >0.348933</td>\n",
       "      <td id=\"T_197c5_row0_col3\" class=\"data row0 col3\" >-0.021627</td>\n",
       "      <td id=\"T_197c5_row0_col4\" class=\"data row0 col4\" >-0.013652</td>\n",
       "      <td id=\"T_197c5_row0_col5\" class=\"data row0 col5\" >0.003042</td>\n",
       "      <td id=\"T_197c5_row0_col6\" class=\"data row0 col6\" >-0.000058</td>\n",
       "      <td id=\"T_197c5_row0_col7\" class=\"data row0 col7\" >0.005525</td>\n",
       "      <td id=\"T_197c5_row0_col8\" class=\"data row0 col8\" >0.007241</td>\n",
       "      <td id=\"T_197c5_row0_col9\" class=\"data row0 col9\" >0.003232</td>\n",
       "      <td id=\"T_197c5_row0_col10\" class=\"data row0 col10\" >-0.017236</td>\n",
       "      <td id=\"T_197c5_row0_col11\" class=\"data row0 col11\" >-0.005673</td>\n",
       "    </tr>\n",
       "    <tr>\n",
       "      <th id=\"T_197c5_level0_row1\" class=\"row_heading level0 row1\" >geo_lat</th>\n",
       "      <td id=\"T_197c5_row1_col0\" class=\"data row1 col0\" >0.307467</td>\n",
       "      <td id=\"T_197c5_row1_col1\" class=\"data row1 col1\" >1.000000</td>\n",
       "      <td id=\"T_197c5_row1_col2\" class=\"data row1 col2\" >0.051688</td>\n",
       "      <td id=\"T_197c5_row1_col3\" class=\"data row1 col3\" >0.003757</td>\n",
       "      <td id=\"T_197c5_row1_col4\" class=\"data row1 col4\" >-0.002316</td>\n",
       "      <td id=\"T_197c5_row1_col5\" class=\"data row1 col5\" >0.004270</td>\n",
       "      <td id=\"T_197c5_row1_col6\" class=\"data row1 col6\" >0.000700</td>\n",
       "      <td id=\"T_197c5_row1_col7\" class=\"data row1 col7\" >0.018924</td>\n",
       "      <td id=\"T_197c5_row1_col8\" class=\"data row1 col8\" >0.007139</td>\n",
       "      <td id=\"T_197c5_row1_col9\" class=\"data row1 col9\" >-0.001653</td>\n",
       "      <td id=\"T_197c5_row1_col10\" class=\"data row1 col10\" >-0.008687</td>\n",
       "      <td id=\"T_197c5_row1_col11\" class=\"data row1 col11\" >-0.003007</td>\n",
       "    </tr>\n",
       "    <tr>\n",
       "      <th id=\"T_197c5_level0_row2\" class=\"row_heading level0 row2\" >precinct_id</th>\n",
       "      <td id=\"T_197c5_row2_col0\" class=\"data row2 col0\" >0.348933</td>\n",
       "      <td id=\"T_197c5_row2_col1\" class=\"data row2 col1\" >0.051688</td>\n",
       "      <td id=\"T_197c5_row2_col2\" class=\"data row2 col2\" >1.000000</td>\n",
       "      <td id=\"T_197c5_row2_col3\" class=\"data row2 col3\" >0.029567</td>\n",
       "      <td id=\"T_197c5_row2_col4\" class=\"data row2 col4\" >0.038514</td>\n",
       "      <td id=\"T_197c5_row2_col5\" class=\"data row2 col5\" >0.005441</td>\n",
       "      <td id=\"T_197c5_row2_col6\" class=\"data row2 col6\" >0.000484</td>\n",
       "      <td id=\"T_197c5_row2_col7\" class=\"data row2 col7\" >0.000628</td>\n",
       "      <td id=\"T_197c5_row2_col8\" class=\"data row2 col8\" >0.001007</td>\n",
       "      <td id=\"T_197c5_row2_col9\" class=\"data row2 col9\" >0.004193</td>\n",
       "      <td id=\"T_197c5_row2_col10\" class=\"data row2 col10\" >0.006290</td>\n",
       "      <td id=\"T_197c5_row2_col11\" class=\"data row2 col11\" >-0.016856</td>\n",
       "    </tr>\n",
       "    <tr>\n",
       "      <th id=\"T_197c5_level0_row3\" class=\"row_heading level0 row3\" >bicycle_ind</th>\n",
       "      <td id=\"T_197c5_row3_col0\" class=\"data row3 col0\" >-0.021627</td>\n",
       "      <td id=\"T_197c5_row3_col1\" class=\"data row3 col1\" >0.003757</td>\n",
       "      <td id=\"T_197c5_row3_col2\" class=\"data row3 col2\" >0.029567</td>\n",
       "      <td id=\"T_197c5_row3_col3\" class=\"data row3 col3\" >1.000000</td>\n",
       "      <td id=\"T_197c5_row3_col4\" class=\"data row3 col4\" >-0.010953</td>\n",
       "      <td id=\"T_197c5_row3_col5\" class=\"data row3 col5\" >0.063092</td>\n",
       "      <td id=\"T_197c5_row3_col6\" class=\"data row3 col6\" >0.013641</td>\n",
       "      <td id=\"T_197c5_row3_col7\" class=\"data row3 col7\" >-0.029242</td>\n",
       "      <td id=\"T_197c5_row3_col8\" class=\"data row3 col8\" >0.014938</td>\n",
       "      <td id=\"T_197c5_row3_col9\" class=\"data row3 col9\" >0.002674</td>\n",
       "      <td id=\"T_197c5_row3_col10\" class=\"data row3 col10\" >0.015632</td>\n",
       "      <td id=\"T_197c5_row3_col11\" class=\"data row3 col11\" >0.005287</td>\n",
       "    </tr>\n",
       "    <tr>\n",
       "      <th id=\"T_197c5_level0_row4\" class=\"row_heading level0 row4\" >pedestrian_ind</th>\n",
       "      <td id=\"T_197c5_row4_col0\" class=\"data row4 col0\" >-0.013652</td>\n",
       "      <td id=\"T_197c5_row4_col1\" class=\"data row4 col1\" >-0.002316</td>\n",
       "      <td id=\"T_197c5_row4_col2\" class=\"data row4 col2\" >0.038514</td>\n",
       "      <td id=\"T_197c5_row4_col3\" class=\"data row4 col3\" >-0.010953</td>\n",
       "      <td id=\"T_197c5_row4_col4\" class=\"data row4 col4\" >1.000000</td>\n",
       "      <td id=\"T_197c5_row4_col5\" class=\"data row4 col5\" >0.167653</td>\n",
       "      <td id=\"T_197c5_row4_col6\" class=\"data row4 col6\" >0.104594</td>\n",
       "      <td id=\"T_197c5_row4_col7\" class=\"data row4 col7\" >-0.025052</td>\n",
       "      <td id=\"T_197c5_row4_col8\" class=\"data row4 col8\" >0.007624</td>\n",
       "      <td id=\"T_197c5_row4_col9\" class=\"data row4 col9\" >-0.006084</td>\n",
       "      <td id=\"T_197c5_row4_col10\" class=\"data row4 col10\" >0.021574</td>\n",
       "      <td id=\"T_197c5_row4_col11\" class=\"data row4 col11\" >0.001667</td>\n",
       "    </tr>\n",
       "    <tr>\n",
       "      <th id=\"T_197c5_level0_row5\" class=\"row_heading level0 row5\" >SERIOUSLY_INJURED</th>\n",
       "      <td id=\"T_197c5_row5_col0\" class=\"data row5 col0\" >0.003042</td>\n",
       "      <td id=\"T_197c5_row5_col1\" class=\"data row5 col1\" >0.004270</td>\n",
       "      <td id=\"T_197c5_row5_col2\" class=\"data row5 col2\" >0.005441</td>\n",
       "      <td id=\"T_197c5_row5_col3\" class=\"data row5 col3\" >0.063092</td>\n",
       "      <td id=\"T_197c5_row5_col4\" class=\"data row5 col4\" >0.167653</td>\n",
       "      <td id=\"T_197c5_row5_col5\" class=\"data row5 col5\" >1.000000</td>\n",
       "      <td id=\"T_197c5_row5_col6\" class=\"data row5 col6\" >0.084331</td>\n",
       "      <td id=\"T_197c5_row5_col7\" class=\"data row5 col7\" >-0.017905</td>\n",
       "      <td id=\"T_197c5_row5_col8\" class=\"data row5 col8\" >0.010119</td>\n",
       "      <td id=\"T_197c5_row5_col9\" class=\"data row5 col9\" >-0.004285</td>\n",
       "      <td id=\"T_197c5_row5_col10\" class=\"data row5 col10\" >0.008693</td>\n",
       "      <td id=\"T_197c5_row5_col11\" class=\"data row5 col11\" >0.007708</td>\n",
       "    </tr>\n",
       "    <tr>\n",
       "      <th id=\"T_197c5_level0_row6\" class=\"row_heading level0 row6\" >FATALITIES</th>\n",
       "      <td id=\"T_197c5_row6_col0\" class=\"data row6 col0\" >-0.000058</td>\n",
       "      <td id=\"T_197c5_row6_col1\" class=\"data row6 col1\" >0.000700</td>\n",
       "      <td id=\"T_197c5_row6_col2\" class=\"data row6 col2\" >0.000484</td>\n",
       "      <td id=\"T_197c5_row6_col3\" class=\"data row6 col3\" >0.013641</td>\n",
       "      <td id=\"T_197c5_row6_col4\" class=\"data row6 col4\" >0.104594</td>\n",
       "      <td id=\"T_197c5_row6_col5\" class=\"data row6 col5\" >0.084331</td>\n",
       "      <td id=\"T_197c5_row6_col6\" class=\"data row6 col6\" >1.000000</td>\n",
       "      <td id=\"T_197c5_row6_col7\" class=\"data row6 col7\" >0.000438</td>\n",
       "      <td id=\"T_197c5_row6_col8\" class=\"data row6 col8\" >0.000093</td>\n",
       "      <td id=\"T_197c5_row6_col9\" class=\"data row6 col9\" >0.001754</td>\n",
       "      <td id=\"T_197c5_row6_col10\" class=\"data row6 col10\" >0.002829</td>\n",
       "      <td id=\"T_197c5_row6_col11\" class=\"data row6 col11\" >0.003425</td>\n",
       "    </tr>\n",
       "    <tr>\n",
       "      <th id=\"T_197c5_level0_row7\" class=\"row_heading level0 row7\" >Year</th>\n",
       "      <td id=\"T_197c5_row7_col0\" class=\"data row7 col0\" >0.005525</td>\n",
       "      <td id=\"T_197c5_row7_col1\" class=\"data row7 col1\" >0.018924</td>\n",
       "      <td id=\"T_197c5_row7_col2\" class=\"data row7 col2\" >0.000628</td>\n",
       "      <td id=\"T_197c5_row7_col3\" class=\"data row7 col3\" >-0.029242</td>\n",
       "      <td id=\"T_197c5_row7_col4\" class=\"data row7 col4\" >-0.025052</td>\n",
       "      <td id=\"T_197c5_row7_col5\" class=\"data row7 col5\" >-0.017905</td>\n",
       "      <td id=\"T_197c5_row7_col6\" class=\"data row7 col6\" >0.000438</td>\n",
       "      <td id=\"T_197c5_row7_col7\" class=\"data row7 col7\" >1.000000</td>\n",
       "      <td id=\"T_197c5_row7_col8\" class=\"data row7 col8\" >-0.057078</td>\n",
       "      <td id=\"T_197c5_row7_col9\" class=\"data row7 col9\" >0.005140</td>\n",
       "      <td id=\"T_197c5_row7_col10\" class=\"data row7 col10\" >-0.013570</td>\n",
       "      <td id=\"T_197c5_row7_col11\" class=\"data row7 col11\" >-0.007580</td>\n",
       "    </tr>\n",
       "    <tr>\n",
       "      <th id=\"T_197c5_level0_row8\" class=\"row_heading level0 row8\" >Month</th>\n",
       "      <td id=\"T_197c5_row8_col0\" class=\"data row8 col0\" >0.007241</td>\n",
       "      <td id=\"T_197c5_row8_col1\" class=\"data row8 col1\" >0.007139</td>\n",
       "      <td id=\"T_197c5_row8_col2\" class=\"data row8 col2\" >0.001007</td>\n",
       "      <td id=\"T_197c5_row8_col3\" class=\"data row8 col3\" >0.014938</td>\n",
       "      <td id=\"T_197c5_row8_col4\" class=\"data row8 col4\" >0.007624</td>\n",
       "      <td id=\"T_197c5_row8_col5\" class=\"data row8 col5\" >0.010119</td>\n",
       "      <td id=\"T_197c5_row8_col6\" class=\"data row8 col6\" >0.000093</td>\n",
       "      <td id=\"T_197c5_row8_col7\" class=\"data row8 col7\" >-0.057078</td>\n",
       "      <td id=\"T_197c5_row8_col8\" class=\"data row8 col8\" >1.000000</td>\n",
       "      <td id=\"T_197c5_row8_col9\" class=\"data row8 col9\" >-0.006592</td>\n",
       "      <td id=\"T_197c5_row8_col10\" class=\"data row8 col10\" >0.006436</td>\n",
       "      <td id=\"T_197c5_row8_col11\" class=\"data row8 col11\" >-0.002886</td>\n",
       "    </tr>\n",
       "    <tr>\n",
       "      <th id=\"T_197c5_level0_row9\" class=\"row_heading level0 row9\" >Day</th>\n",
       "      <td id=\"T_197c5_row9_col0\" class=\"data row9 col0\" >0.003232</td>\n",
       "      <td id=\"T_197c5_row9_col1\" class=\"data row9 col1\" >-0.001653</td>\n",
       "      <td id=\"T_197c5_row9_col2\" class=\"data row9 col2\" >0.004193</td>\n",
       "      <td id=\"T_197c5_row9_col3\" class=\"data row9 col3\" >0.002674</td>\n",
       "      <td id=\"T_197c5_row9_col4\" class=\"data row9 col4\" >-0.006084</td>\n",
       "      <td id=\"T_197c5_row9_col5\" class=\"data row9 col5\" >-0.004285</td>\n",
       "      <td id=\"T_197c5_row9_col6\" class=\"data row9 col6\" >0.001754</td>\n",
       "      <td id=\"T_197c5_row9_col7\" class=\"data row9 col7\" >0.005140</td>\n",
       "      <td id=\"T_197c5_row9_col8\" class=\"data row9 col8\" >-0.006592</td>\n",
       "      <td id=\"T_197c5_row9_col9\" class=\"data row9 col9\" >1.000000</td>\n",
       "      <td id=\"T_197c5_row9_col10\" class=\"data row9 col10\" >-0.000538</td>\n",
       "      <td id=\"T_197c5_row9_col11\" class=\"data row9 col11\" >-0.001651</td>\n",
       "    </tr>\n",
       "    <tr>\n",
       "      <th id=\"T_197c5_level0_row10\" class=\"row_heading level0 row10\" >Hour</th>\n",
       "      <td id=\"T_197c5_row10_col0\" class=\"data row10 col0\" >-0.017236</td>\n",
       "      <td id=\"T_197c5_row10_col1\" class=\"data row10 col1\" >-0.008687</td>\n",
       "      <td id=\"T_197c5_row10_col2\" class=\"data row10 col2\" >0.006290</td>\n",
       "      <td id=\"T_197c5_row10_col3\" class=\"data row10 col3\" >0.015632</td>\n",
       "      <td id=\"T_197c5_row10_col4\" class=\"data row10 col4\" >0.021574</td>\n",
       "      <td id=\"T_197c5_row10_col5\" class=\"data row10 col5\" >0.008693</td>\n",
       "      <td id=\"T_197c5_row10_col6\" class=\"data row10 col6\" >0.002829</td>\n",
       "      <td id=\"T_197c5_row10_col7\" class=\"data row10 col7\" >-0.013570</td>\n",
       "      <td id=\"T_197c5_row10_col8\" class=\"data row10 col8\" >0.006436</td>\n",
       "      <td id=\"T_197c5_row10_col9\" class=\"data row10 col9\" >-0.000538</td>\n",
       "      <td id=\"T_197c5_row10_col10\" class=\"data row10 col10\" >1.000000</td>\n",
       "      <td id=\"T_197c5_row10_col11\" class=\"data row10 col11\" >-0.034808</td>\n",
       "    </tr>\n",
       "    <tr>\n",
       "      <th id=\"T_197c5_level0_row11\" class=\"row_heading level0 row11\" >Minute</th>\n",
       "      <td id=\"T_197c5_row11_col0\" class=\"data row11 col0\" >-0.005673</td>\n",
       "      <td id=\"T_197c5_row11_col1\" class=\"data row11 col1\" >-0.003007</td>\n",
       "      <td id=\"T_197c5_row11_col2\" class=\"data row11 col2\" >-0.016856</td>\n",
       "      <td id=\"T_197c5_row11_col3\" class=\"data row11 col3\" >0.005287</td>\n",
       "      <td id=\"T_197c5_row11_col4\" class=\"data row11 col4\" >0.001667</td>\n",
       "      <td id=\"T_197c5_row11_col5\" class=\"data row11 col5\" >0.007708</td>\n",
       "      <td id=\"T_197c5_row11_col6\" class=\"data row11 col6\" >0.003425</td>\n",
       "      <td id=\"T_197c5_row11_col7\" class=\"data row11 col7\" >-0.007580</td>\n",
       "      <td id=\"T_197c5_row11_col8\" class=\"data row11 col8\" >-0.002886</td>\n",
       "      <td id=\"T_197c5_row11_col9\" class=\"data row11 col9\" >-0.001651</td>\n",
       "      <td id=\"T_197c5_row11_col10\" class=\"data row11 col10\" >-0.034808</td>\n",
       "      <td id=\"T_197c5_row11_col11\" class=\"data row11 col11\" >1.000000</td>\n",
       "    </tr>\n",
       "  </tbody>\n",
       "</table>\n"
      ],
      "text/plain": [
       "<pandas.io.formats.style.Styler at 0x7f4543f68e50>"
      ]
     },
     "execution_count": 23,
     "metadata": {},
     "output_type": "execute_result"
    }
   ],
   "source": [
    "corr = df.corr()\n",
    "corr.style.background_gradient(cmap='gist_ncar')"
   ]
  },
  {
   "cell_type": "markdown",
   "id": "62c74eea-abd8-418c-9a70-6763be4c84e2",
   "metadata": {},
   "source": [
    "Since we are interested in analyzing fatalities that arise from traffic incidents and their contributing factors, we can filter the data based on instances where the fatality count is greater than or equal to 1:"
   ]
  },
  {
   "cell_type": "code",
   "execution_count": 24,
   "id": "2604d056-8c0b-475f-a2ab-f11cd39de251",
   "metadata": {},
   "outputs": [],
   "source": [
    "df_fatalities = df[df['FATALITIES'] > 0]"
   ]
  },
  {
   "cell_type": "markdown",
   "id": "c45ad5f1-48f7-4d48-930d-a5bcd0c52ab0",
   "metadata": {},
   "source": [
    "Lets take a look at the type of vehicles that are involved in each traffic indicent fatality. We can print the results of getting the relative frequencies of each vehicle through value_counts():"
   ]
  },
  {
   "cell_type": "code",
   "execution_count": 25,
   "id": "a309ac0d-eb1f-426e-9444-1b95d41b75fc",
   "metadata": {},
   "outputs": [
    {
     "name": "stdout",
     "output_type": "stream",
     "text": [
      "PASSENGER CAR/VAN                         0.318043\n",
      "OTHER                                     0.183486\n",
      "SUV                                       0.162080\n",
      "MOTORCYCLE                                0.146789\n",
      "PICKUP TRUCK/UTILITY VAN                  0.085627\n",
      "BICYCLE                                   0.024465\n",
      "VEHICLE OVER 10000 LBS                    0.021407\n",
      "HIT AND RUN UNKNOWN                       0.018349\n",
      "PICKUP TRUCK/UTILITY VAN WITH TRAILIER    0.015291\n",
      "N/A                                       0.012232\n",
      "MOTORIZED BICYCLE                         0.006116\n",
      "SCHOOL BUS                                0.003058\n",
      "MOTOR HOME                                0.003058\n",
      "Name: TU1_VEHICLE_TYPE, dtype: float64\n"
     ]
    }
   ],
   "source": [
    "fatalities_car_type = df_fatalities['TU1_VEHICLE_TYPE'].value_counts(normalize=True)\n",
    "print(fatalities_car_type)"
   ]
  },
  {
   "cell_type": "markdown",
   "id": "f4313f64-4cc4-4bfa-ab92-1f14a3c5d951",
   "metadata": {},
   "source": [
    "We can do the same procedure for the second vehicle involved, as well as the neighborhood and road conditions attributes:"
   ]
  },
  {
   "cell_type": "code",
   "execution_count": 26,
   "id": "354463c6-1b74-4547-8b06-280f55521923",
   "metadata": {},
   "outputs": [
    {
     "name": "stdout",
     "output_type": "stream",
     "text": [
      "OTHER                                     0.296636\n",
      "PASSENGER CAR/VAN                         0.278287\n",
      "SUV                                       0.152905\n",
      "PICKUP TRUCK/UTILITY VAN                  0.088685\n",
      "MOTORCYCLE                                0.055046\n",
      "VEHICLE OVER 10000 LBS                    0.039755\n",
      "N/A                                       0.033639\n",
      "BICYCLE                                   0.021407\n",
      "HIT AND RUN UNKNOWN                       0.015291\n",
      "PICKUP TRUCK/UTILITY VAN WITH TRAILIER    0.006116\n",
      "TRANSIT BUS                               0.006116\n",
      "MOTORIZED BICYCLE                         0.003058\n",
      "FARM EQUIPMENT                            0.003058\n",
      "Name: TU2_VEHICLE_TYPE, dtype: float64\n"
     ]
    }
   ],
   "source": [
    "fatalities_car_type2 = df_fatalities['TU2_VEHICLE_TYPE'].value_counts(normalize=True)\n",
    "print(fatalities_car_type2)"
   ]
  },
  {
   "cell_type": "code",
   "execution_count": 27,
   "id": "5b5c636a-2655-4ee1-ab1d-292d95ba98d2",
   "metadata": {},
   "outputs": [
    {
     "data": {
      "text/plain": [
       "DRY      0.951070\n",
       "WET      0.036697\n",
       "ICY      0.006116\n",
       "SNOWY    0.006116\n",
       "Name: ROAD_CONDITION, dtype: float64"
      ]
     },
     "execution_count": 27,
     "metadata": {},
     "output_type": "execute_result"
    }
   ],
   "source": [
    "fatalities_road_conditions = df_fatalities['ROAD_CONDITION'].value_counts(normalize=True)\n",
    "fatalities_road_conditions"
   ]
  },
  {
   "cell_type": "code",
   "execution_count": 28,
   "id": "338816ed-84ca-4f80-afe1-923d7f5a4c24",
   "metadata": {},
   "outputs": [
    {
     "data": {
      "text/plain": [
       "Central Park           0.073394\n",
       "Highland               0.036697\n",
       "Five Points            0.033639\n",
       "Westwood               0.030581\n",
       "Northeast Park Hill    0.027523\n",
       "                         ...   \n",
       "Wellshire              0.003058\n",
       "Bear Valley            0.003058\n",
       "Cory - Merrill         0.003058\n",
       "Skyland                0.003058\n",
       "Montclair              0.003058\n",
       "Name: neighborhood_id, Length: 72, dtype: float64"
      ]
     },
     "execution_count": 28,
     "metadata": {},
     "output_type": "execute_result"
    }
   ],
   "source": [
    "fatalities_neighborhood = df_fatalities['neighborhood_id'].value_counts(normalize=True)\n",
    "fatalities_neighborhood"
   ]
  },
  {
   "cell_type": "markdown",
   "id": "db869add-30f8-4fcb-b70f-3c37ceeb6df8",
   "metadata": {},
   "source": [
    "## Model Approach"
   ]
  },
  {
   "cell_type": "markdown",
   "id": "81e5eb89-e958-4df9-9b59-979b499760df",
   "metadata": {},
   "source": [
    "Several models will be considered as optimal candidates for classifying traffic incident conditions as more likely to produce traffic fatalities or unlikely to produce fatalities. Of the models considered, two are designated for eventual implementation given the project parameters: k-Nearest Neighbors (k-NN) and Support Vector Machines (SVM).\n",
    "\n",
    "Implementing a classification model using k-Nearest Neighbors has distinct advantages and disadvantages when it comes to the specific dataset used to determine traffic incident fatality likelihood. Namely, the method provides a simple, straightforward implementation that is supported by numerous scientific libraries. Leveraging these libraries, clusters of data points can be formed to determine similar groupings which classify a data point into one cluster or another depending on similar features shared between the clusters. Another advantage of using the k-NN algorithim is the fact that the underlying data can be non-linear and relatively well-defined. Because the data involved in accident incidents is discrete and well-defined, having clear categories and markers, utilizing k-NN could be accomplished to determine 'hotspots' of where and/or when an accident occurs. However, the approach does come with downsides that cannot be ignored. Primarily, the approach works best on smaller datasets where clusters might be well-defined. Additionally, the time-complexity of the algorithm dictates that as the dataset grows, so does the time taken to determine clusters, thus increasing computation time. Some steps can be taken to mitigate the disadvantages of k-NN, including batching data and coalescing results at the end of an iteration. The coalescing process can bifurcate the work requried to compute the clusters and ultimately save time such that more data can be analyzed more efficiently. In additon, specifying the k value prior to each iteration can be costly. To address the 'k' issue, guesses can be made before each iteration to achieve an accurate classification mechanism. \n",
    "\n",
    "Support Vector Machines (SVMs) operate in a similar fashion to the k-NN algorithm. Where the two diverge is their abilities in defining a hyper-plane which separates parameters used to classify data points into different groupings or clusters. The objective of SVMs is to maximize a thresholding value for the distance between each data point or grouping of data points. Maximizing this value means that as more data points are added to the sample, we can be confident that the new points are properly classified. Downsides of SVMs are similar to the k-NN method as well, with the main factor being the size of the dataset. Again, batching can be implemented to create smaller sample as to reduce the time requried to generate hyper-planes needed for data point classification. Additionally, a main downside of SVM's is the underlying method's usefulness for limited features sets. Data containing limited features might not be benefited from an SVM implementation as more parameters might be required to form an optimal hyper-plane. Luckily, the dataset proposed in this project contains numerous features which will provide ample coverage for an SVM implementation.  "
   ]
  },
  {
   "cell_type": "markdown",
   "id": "39f8fca3-b01f-4a6f-8dd3-67b7470dfb73",
   "metadata": {},
   "source": [
    "## Model Creation"
   ]
  },
  {
   "cell_type": "markdown",
   "id": "9b1fefe1-6a0d-4b52-99a3-51c3af2c6239",
   "metadata": {},
   "source": [
    "One of the goals of this project is to develop a model capable of classifying accidents as having fatalities or serious injuries based on several traffic accident factors. There are many approaches to defining the model and determining which factors to include, and what significance a factor might have on final model accuracy. Before delving into model creation, we will first define the training and testing data that will be used for model preparation. To make things easier, we will be using continuous data from the dataset as explained in the EDA. These features include geographic latitude and longitude, the number of bicycle and pedestrian indicators, and time-series data."
   ]
  },
  {
   "cell_type": "markdown",
   "id": "45a4ec89-8b0b-444c-a14e-fc3831691eae",
   "metadata": {},
   "source": [
    "First, we will trim the dataset to only the features we are interested in:"
   ]
  },
  {
   "cell_type": "code",
   "execution_count": 29,
   "id": "5c624e61-0040-48b7-8086-7ad9d20067af",
   "metadata": {},
   "outputs": [],
   "source": [
    "df_continuous = df[['geo_lon','geo_lat','pedestrian_ind','bicycle_ind','Year','Month','Day','Hour','Minute']]"
   ]
  },
  {
   "cell_type": "markdown",
   "id": "0101c173-6093-4e1d-82bb-afe16d1c1cba",
   "metadata": {},
   "source": [
    "Next, a column will be created which corresponds to the binary representation of fatalities present in accidents. This is accomplished by mapping the number of fatalities to one if the count is greater than 0, and assigning 0 otherwise:"
   ]
  },
  {
   "cell_type": "code",
   "execution_count": 30,
   "id": "661d0f74-d65b-479b-b06c-55a347a07d47",
   "metadata": {},
   "outputs": [],
   "source": [
    "target_fatalities = df['FATALITIES'].apply(lambda x: 1 if x > 0 else 0)"
   ]
  },
  {
   "cell_type": "markdown",
   "id": "803713a2-6438-4df9-943a-4a8b06d7d518",
   "metadata": {},
   "source": [
    "Training and testing data are created using the train_test_split function from sklearn. A 66/33 test/train split will be used to compare and create the model:"
   ]
  },
  {
   "cell_type": "code",
   "execution_count": 31,
   "id": "400360de-e0e5-42aa-8091-12a45de09d30",
   "metadata": {},
   "outputs": [],
   "source": [
    "X_train, X_test, y_train, y_test = train_test_split(df_continuous, target_fatalities, test_size=0.33, random_state=0)"
   ]
  },
  {
   "cell_type": "markdown",
   "id": "b8578723-1111-4a97-b0c1-afd450dd15d5",
   "metadata": {},
   "source": [
    "With the training and test data split, the data will be scaled to address issues with feature skew and standardize the data:"
   ]
  },
  {
   "cell_type": "code",
   "execution_count": 32,
   "id": "9016bd3a-f2ce-4249-9e09-588118edd77a",
   "metadata": {},
   "outputs": [],
   "source": [
    "scaled_train = StandardScaler()\n",
    "X_train = scaled_train.fit_transform(X_train)"
   ]
  },
  {
   "cell_type": "code",
   "execution_count": 33,
   "id": "4a013354-b131-4df5-9c35-2b372d53ddca",
   "metadata": {},
   "outputs": [],
   "source": [
    "scaled_test = StandardScaler()\n",
    "X_test = scaled_test.fit_transform(X_test)"
   ]
  },
  {
   "cell_type": "markdown",
   "id": "cb6423e7-2c85-4d3a-90fc-85ccfcce9d0a",
   "metadata": {},
   "source": [
    "Key to model selection is the comparison of models to one another using our training and test data. In order to compare models to one another, we will define a model dictionary that contains instances of each model. Parts of this code are adapted from https://www.learndatasci.com/glossary/binary-classification/:"
   ]
  },
  {
   "cell_type": "code",
   "execution_count": 34,
   "id": "214e32b4-585a-41aa-b274-69206a1541f7",
   "metadata": {},
   "outputs": [],
   "source": [
    "models = {'Logistic Regression': LogisticRegression(), \n",
    "          'Support Vector Machines': LinearSVC(),\n",
    "          'K-Nearest Neighbor': KNeighborsClassifier(),\n",
    "          'Naive Bayes': GaussianNB(),\n",
    "          'Decision Trees': DecisionTreeClassifier(),\n",
    "          'Random Forest': RandomForestClassifier(),\n",
    "         }"
   ]
  },
  {
   "cell_type": "markdown",
   "id": "3f95b332-9b50-42b6-8f97-3c2281a02571",
   "metadata": {},
   "source": [
    "We'll declare dictionarys to hold the values resulting from analysis of accuracy, precision, and recall for each model:"
   ]
  },
  {
   "cell_type": "code",
   "execution_count": 35,
   "id": "2fc37e61-c58f-4db1-bdcb-cad41a62efab",
   "metadata": {},
   "outputs": [],
   "source": [
    "accuracy, precision, recall = {}, {}, {}"
   ]
  },
  {
   "cell_type": "markdown",
   "id": "e26638e7-0594-45f6-bc21-88728bbb7731",
   "metadata": {},
   "source": [
    "A loop is defined that will iterate through each of the models of interest, fit the model to the training data, and generate predictions. The predictions will then be compared to the testing data with measures computed for accuracy, precision, and recall:"
   ]
  },
  {
   "cell_type": "code",
   "execution_count": 36,
   "id": "11220cd1-ca4d-47ea-8c99-960911b85591",
   "metadata": {},
   "outputs": [
    {
     "name": "stderr",
     "output_type": "stream",
     "text": [
      "/opt/conda/lib/python3.10/site-packages/sklearn/svm/_base.py:1225: ConvergenceWarning: Liblinear failed to converge, increase the number of iterations.\n",
      "  warnings.warn(\n",
      "/opt/conda/lib/python3.10/site-packages/sklearn/metrics/_classification.py:1334: UndefinedMetricWarning: Recall is ill-defined and being set to 0.0 due to no true samples. Use `zero_division` parameter to control this behavior.\n",
      "  _warn_prf(average, modifier, msg_start, len(result))\n",
      "/opt/conda/lib/python3.10/site-packages/sklearn/metrics/_classification.py:1334: UndefinedMetricWarning: Recall is ill-defined and being set to 0.0 due to no true samples. Use `zero_division` parameter to control this behavior.\n",
      "  _warn_prf(average, modifier, msg_start, len(result))\n"
     ]
    }
   ],
   "source": [
    "for key in models.keys():\n",
    "    models[key].fit(X_train, y_train)\n",
    "    predictions = models[key].predict(X_test)\n",
    "    accuracy[key] = accuracy_score(predictions, y_test)\n",
    "    precision[key] = precision_score(predictions, y_test)\n",
    "    recall[key] = recall_score(predictions, y_test)"
   ]
  },
  {
   "cell_type": "markdown",
   "id": "2c863707-01e9-4e59-88f0-dfc3cb58d5be",
   "metadata": {},
   "source": [
    "A new dataframe is created with the measures of accuracy, precision, and recall computed as rows for each model as part of the comparison between each model:"
   ]
  },
  {
   "cell_type": "code",
   "execution_count": 37,
   "id": "0713277f-a01c-4290-9784-8799bac4cecb",
   "metadata": {},
   "outputs": [],
   "source": [
    "df_model = pd.DataFrame(index=models.keys(), columns=['Accuracy', 'Precision', 'Recall'])\n",
    "df_model['Accuracy'] = accuracy.values()\n",
    "df_model['Precision'] = precision.values()\n",
    "df_model['Recall'] = recall.values()"
   ]
  },
  {
   "cell_type": "markdown",
   "id": "c6b327ad-797c-48cb-a53e-47fe6a85bc76",
   "metadata": {},
   "source": [
    "Finally, we can print the resulting dataframe and plot the values as a horizontal barchart, which should yield a visual representation of the best model to use for the data:"
   ]
  },
  {
   "cell_type": "code",
   "execution_count": 38,
   "id": "0d17a5d2-44d9-4a62-a413-565a6b29ed5a",
   "metadata": {},
   "outputs": [
    {
     "name": "stdout",
     "output_type": "stream",
     "text": [
      "                         Accuracy  Precision    Recall\n",
      "Logistic Regression      0.997658   0.009259  0.166667\n",
      "Support Vector Machines  0.997742   0.000000  0.000000\n",
      "K-Nearest Neighbor       0.997700   0.000000  0.000000\n",
      "Naive Bayes              0.970560   0.398148  0.031025\n",
      "Decision Trees           0.994292   0.000000  0.000000\n",
      "Random Forest            0.997742   0.000000  0.000000\n"
     ]
    }
   ],
   "source": [
    "print(df_model)"
   ]
  },
  {
   "cell_type": "code",
   "execution_count": 39,
   "id": "ee8ab010-d6f1-46fb-a370-0393ad64c68b",
   "metadata": {},
   "outputs": [
    {
     "data": {
      "image/png": "[encoded data removed]",
      "text/plain": [
       "<Figure size 432x288 with 1 Axes>"
      ]
     },
     "metadata": {
      "needs_background": "light"
     },
     "output_type": "display_data"
    }
   ],
   "source": [
    "ax = df_model.plot.barh()\n",
    "ax.legend(\n",
    "    ncol=len(models.keys()), \n",
    "    bbox_to_anchor=(0, 1), \n",
    "    loc='lower left', \n",
    "    prop={'size': 14}\n",
    ")\n",
    "plt.tight_layout()"
   ]
  },
  {
   "cell_type": "markdown",
   "id": "73079bd0-b4f7-4a7c-abcd-5b6eba865667",
   "metadata": {},
   "source": [
    "Serious injuries are often proxies for fatalities in traffic accidents. We can repeat the above process for serious injuries and explore models that best fit that data:"
   ]
  },
  {
   "cell_type": "code",
   "execution_count": 40,
   "id": "fd4fd731-82da-4b44-96d2-acfa726ab052",
   "metadata": {},
   "outputs": [],
   "source": [
    "target_seriously_injured = df['SERIOUSLY_INJURED'].apply(lambda x: 1 if x > 0 else 0)"
   ]
  },
  {
   "cell_type": "code",
   "execution_count": 41,
   "id": "5b138788-476f-4ca7-b937-7b8727dfd69b",
   "metadata": {},
   "outputs": [],
   "source": [
    "X_train, X_test, y_train, y_test = train_test_split(df_continuous, target_seriously_injured, test_size=0.33, random_state=0)"
   ]
  },
  {
   "cell_type": "code",
   "execution_count": 42,
   "id": "01a61bff-fc18-4d0c-ad45-77d107dfbec9",
   "metadata": {},
   "outputs": [
    {
     "name": "stderr",
     "output_type": "stream",
     "text": [
      "/opt/conda/lib/python3.10/site-packages/sklearn/svm/_base.py:1225: ConvergenceWarning: Liblinear failed to converge, increase the number of iterations.\n",
      "  warnings.warn(\n"
     ]
    },
    {
     "name": "stdout",
     "output_type": "stream",
     "text": [
      "                         Accuracy  Precision    Recall\n",
      "Logistic Regression      0.980952   0.014509  0.317073\n",
      "Support Vector Machines  0.981349   0.005580  0.833333\n",
      "K-Nearest Neighbor       0.980826   0.017857  0.301887\n",
      "Naive Bayes              0.962740   0.279018  0.180375\n",
      "Decision Trees           0.962154   0.080357  0.068053\n",
      "Random Forest            0.981307   0.003348  0.750000\n"
     ]
    }
   ],
   "source": [
    "scaled_train = StandardScaler()\n",
    "X_train = scaled_train.fit_transform(X_train)\n",
    "scaled_test = StandardScaler()\n",
    "X_test = scaled_test.fit_transform(X_test)\n",
    "\n",
    "accuracy, precision, recall = {}, {}, {}\n",
    "for key in models.keys():\n",
    "    models[key].fit(X_train, y_train)\n",
    "    predictions = models[key].predict(X_test)\n",
    "    accuracy[key] = accuracy_score(predictions, y_test)\n",
    "    precision[key] = precision_score(predictions, y_test)\n",
    "    recall[key] = recall_score(predictions, y_test)\n",
    "    \n",
    "df_model = pd.DataFrame(index=models.keys(), columns=['Accuracy', 'Precision', 'Recall'])\n",
    "df_model['Accuracy'] = accuracy.values()\n",
    "df_model['Precision'] = precision.values()\n",
    "df_model['Recall'] = recall.values()\n",
    "\n",
    "print(df_model)"
   ]
  },
  {
   "cell_type": "code",
   "execution_count": 43,
   "id": "e082dc94-3b34-4da1-8260-8a9ce90390c1",
   "metadata": {},
   "outputs": [
    {
     "data": {
      "image/png": "[encoded data removed]",
      "text/plain": [
       "<Figure size 432x288 with 1 Axes>"
      ]
     },
     "metadata": {
      "needs_background": "light"
     },
     "output_type": "display_data"
    }
   ],
   "source": [
    "ax = df_model.plot.barh()\n",
    "ax.legend(\n",
    "    ncol=len(models.keys()), \n",
    "    bbox_to_anchor=(0, 1), \n",
    "    loc='lower left', \n",
    "    prop={'size': 14}\n",
    ")\n",
    "plt.tight_layout()"
   ]
  },
  {
   "cell_type": "markdown",
   "id": "9acd680b-7b08-4d7b-924d-470e1e2afb75",
   "metadata": {},
   "source": [
    "Previously, an SVM model approach was identified as suitable for the available data. Let's examine data containing a mixture of continuous and categorical features:"
   ]
  },
  {
   "cell_type": "code",
   "execution_count": 44,
   "id": "ae0bc1e2-9282-4523-8845-48568e377bf0",
   "metadata": {},
   "outputs": [],
   "source": [
    "df_categorical = df[['neighborhood_id', 'bicycle_ind', 'pedestrian_ind', 'road_location', 'ROAD_DESCRIPTION', 'ROAD_CONTOUR', 'ROAD_CONDITION', 'LIGHT_CONDITION', 'TU1_DRIVER_ACTION', 'TU1_PEDESTRIAN_ACTION', 'TU2_VEHICLE_TYPE', 'TU2_DRIVER_ACTION']]"
   ]
  },
  {
   "cell_type": "code",
   "execution_count": 45,
   "id": "e03180e8-6e23-4231-bdc1-5413e054d7e4",
   "metadata": {},
   "outputs": [],
   "source": [
    "X_train, X_test, y_train, y_test = train_test_split(df_categorical, target_fatalities, test_size=0.33, random_state=1)"
   ]
  },
  {
   "cell_type": "markdown",
   "id": "d9d5d37a-f2ed-4c40-8d69-82d3f904ca1d",
   "metadata": {},
   "source": [
    "With categorical features, encoding is necessary to accurately convey data for eventual model training. Encoding will also be important for specific hyperparameter tuning methods. Lets use OneHot Encoding to encode the data based on the absence/presence of specific categories:"
   ]
  },
  {
   "cell_type": "code",
   "execution_count": 46,
   "id": "60273acc-36be-4126-ad5e-a009a91eb73c",
   "metadata": {},
   "outputs": [],
   "source": [
    "onehot_encoder = OneHotEncoder()\n",
    "onehot_encoder.fit(X_train)\n",
    "X_train = onehot_encoder.transform(X_train)\n",
    "X_test = onehot_encoder.transform(X_test)"
   ]
  },
  {
   "cell_type": "markdown",
   "id": "fd807242-21af-47c1-b6e9-c9bec9d3387b",
   "metadata": {},
   "source": [
    "A LabelEncoder() is then used to encode true/false data involving the presence/absence of fatalities"
   ]
  },
  {
   "cell_type": "code",
   "execution_count": 47,
   "id": "dcf60d38-6875-4d57-b1f6-04324e372db3",
   "metadata": {},
   "outputs": [],
   "source": [
    "label_encoder = LabelEncoder()\n",
    "label_encoder.fit(y_train)\n",
    "y_train = label_encoder.transform(y_train)\n",
    "y_test = label_encoder.transform(y_test)"
   ]
  },
  {
   "cell_type": "markdown",
   "id": "e1541ec5-3531-4930-a4ef-4f44f5493e37",
   "metadata": {},
   "source": [
    "An SVM model is delared and fitted against the training data, and subsequently used to make predictions:"
   ]
  },
  {
   "cell_type": "code",
   "execution_count": 48,
   "id": "2c0e3fd1-a8ac-480d-b2a5-b4d40c8b2178",
   "metadata": {},
   "outputs": [],
   "source": [
    "model = LinearSVC()\n",
    "model.fit(X_train, y_train)\n",
    "yhat = model.predict(X_test)"
   ]
  },
  {
   "cell_type": "markdown",
   "id": "2ccc2e66-0915-4fca-985f-673bb4bb2750",
   "metadata": {},
   "source": [
    "An accuracy score is calculated for the SVM model in its power to predict accident conditions involving fatalities:"
   ]
  },
  {
   "cell_type": "code",
   "execution_count": 49,
   "id": "e9b6311c-ccc9-41ea-9255-e126ea57760b",
   "metadata": {},
   "outputs": [
    {
     "name": "stdout",
     "output_type": "stream",
     "text": [
      "Accuracy: 99.75954501735458\n"
     ]
    }
   ],
   "source": [
    "accuracy = accuracy_score(y_test, yhat.round())\n",
    "print('Accuracy: ' + str((accuracy * 100)))"
   ]
  },
  {
   "cell_type": "markdown",
   "id": "bb5d87a6-af04-42c6-8e83-312424223730",
   "metadata": {},
   "source": [
    "Finally, a classification report is generated to evaluate other key measures such as precision, f1-score, and support:"
   ]
  },
  {
   "cell_type": "code",
   "execution_count": 50,
   "id": "a1c8e86f-ad20-469f-b3da-50c209a593c9",
   "metadata": {},
   "outputs": [
    {
     "name": "stdout",
     "output_type": "stream",
     "text": [
      "              precision    recall  f1-score   support\n",
      "\n",
      "           0       1.00      1.00      1.00     47824\n",
      "           1       0.01      0.50      0.02         2\n",
      "\n",
      "    accuracy                           1.00     47826\n",
      "   macro avg       0.50      0.75      0.51     47826\n",
      "weighted avg       1.00      1.00      1.00     47826\n",
      "\n"
     ]
    }
   ],
   "source": [
    "print(classification_report(yhat, y_test))"
   ]
  },
  {
   "cell_type": "markdown",
   "id": "08d2f87a-7a03-408d-bdb0-e8fb877caeac",
   "metadata": {},
   "source": [
    "The same steps can be carried out using our transformed categorical data, except this time traffic accidents involving serious injuries will be considered:"
   ]
  },
  {
   "cell_type": "code",
   "execution_count": 51,
   "id": "6598db85-d0aa-4ed2-9c2d-8c0f98703255",
   "metadata": {},
   "outputs": [],
   "source": [
    "X_train, X_test, y_train, y_test = train_test_split(df_categorical, target_seriously_injured, test_size=0.33, random_state=1)"
   ]
  },
  {
   "cell_type": "code",
   "execution_count": 52,
   "id": "223956a6-3c6b-4555-89a2-eee8604d788d",
   "metadata": {},
   "outputs": [],
   "source": [
    "onehot_encoder = OneHotEncoder()\n",
    "onehot_encoder.fit(X_train)\n",
    "X_train = onehot_encoder.transform(X_train)\n",
    "X_test = onehot_encoder.transform(X_test)"
   ]
  },
  {
   "cell_type": "code",
   "execution_count": 53,
   "id": "f5f41d25-8682-40b2-ad38-63b02f01d5b8",
   "metadata": {},
   "outputs": [],
   "source": [
    "label_encoder = LabelEncoder()\n",
    "label_encoder.fit(y_train)\n",
    "y_train = label_encoder.transform(y_train)\n",
    "y_test = label_encoder.transform(y_test)"
   ]
  },
  {
   "cell_type": "code",
   "execution_count": 54,
   "id": "a1b5cc94-359b-4309-9173-a72372e48139",
   "metadata": {},
   "outputs": [],
   "source": [
    "model = LinearSVC()\n",
    "model.fit(X_train, y_train)\n",
    "yhat = model.predict(X_test)"
   ]
  },
  {
   "cell_type": "code",
   "execution_count": 55,
   "id": "f22c1f20-1871-459e-a66f-056dd1bbbdef",
   "metadata": {},
   "outputs": [
    {
     "name": "stdout",
     "output_type": "stream",
     "text": [
      "Accuracy: 98.10772383222515\n"
     ]
    }
   ],
   "source": [
    "accuracy = accuracy_score(y_test, yhat.round())\n",
    "print('Accuracy: ' + str((accuracy * 100)))"
   ]
  },
  {
   "cell_type": "code",
   "execution_count": 56,
   "id": "5a5aa068-dba2-4805-a495-dc1d838ebbc1",
   "metadata": {},
   "outputs": [
    {
     "name": "stdout",
     "output_type": "stream",
     "text": [
      "              precision    recall  f1-score   support\n",
      "\n",
      "           0       1.00      0.98      0.99     47823\n",
      "           1       0.00      0.33      0.00         3\n",
      "\n",
      "    accuracy                           0.98     47826\n",
      "   macro avg       0.50      0.66      0.50     47826\n",
      "weighted avg       1.00      0.98      0.99     47826\n",
      "\n"
     ]
    }
   ],
   "source": [
    "print(classification_report(yhat, y_test))"
   ]
  },
  {
   "cell_type": "markdown",
   "id": "409b3d1f-6c9b-42f3-b99e-393846eed2d5",
   "metadata": {},
   "source": [
    "## Results and Analysis"
   ]
  },
  {
   "cell_type": "markdown",
   "id": "4fe7227e-c897-4cac-94c0-2fdf27f09cf9",
   "metadata": {},
   "source": [
    "From the EDA in the previous sections, we begin to see some of the trends of the underlying dataset, including when and where traffic accidents occur. Starting with the neighborhood feature, counting the number of accidents per neighborhood and plotting a bar chart of accident frequency illuminates which neighborhoods might be of interest when performing a deeper analysis. The neighborhoods with the highest accident frequency include Central Park, Baker, and Montbello. A possible explanation for Central Park taking the top spot in this section of the analysis comes as the neighborhood is the fact that it is a large suburban neighborhood. Neighborhoods of this type are often car-dependent, leading to increased ridership and increased accident likelihood. Some of the lowest frequency neighborhoods include Indian Creek and Wellshire, rounding out the bottom of the group most likely due to their small footprint and lack of major avenues. \n",
    "\n",
    "Moving on to the road condition analysis, a large majority of the accidents occur in dry conditions. This fact may come as a surprise considering Denver’s snowy winter season. A follow-up analysis might delve deeper into examining road condition versus injury and fatality, where adverse conditions such as snowy or wet roads could impact the severity of crashes. Taking a look at the cars involved in accidents, the cars most often involved in traffic accidents are passenger cars and vans. Next are SUVs, and ignoring the other category, followed by pickup trucks and utility vans. These are some of the most common cars on the road today, so there is little surprise when understanding that these vehicles are also involved in the most accidents. Moreover, the time data show trends in when accidents happen and how the number of accidents has changed over time. The histogram generated from the Year column of the data shows an overall downward trend of traffic accidents during the time period of interest. Yearly traffic accidents remained flat from 2016 until around 2019, with a stark drop from 2020 onward. The elephant in the room regarding the yearly accident totals is the impact that COVID-19 had on vehicle ridership, with lower commute frequency throughout the city during quarantine periods. While 2021 saw a slight uptick in accidents relative to the year prior, so far 2022 traffic accident totals have remained low and resemble the 2020 total. Through plotting the time of day when accidents occurred, a visual representation of accident frequency relative to time was achieved. The histogram of accident hour forms a left-skewed distribution with a mean somewhere between 16 and 17. These hours correspond to the classic ‘rush hour’ period where people are leaving work, and where most stressed is placed on the traffic system.\n",
    "\n",
    "Looking at the correlation matrix, it is visible that the geographical points of latitude and longitude are correlated with the precincts in which they are located. The fact that the locations of the precincts are correlated is not entirely relevant to the analysis, but it affirms the integrity of our data and that our locations are relatively robust. Focusing on the attributes that are of more importance to the analysis, the attributes of serious injuries from accidents and the presence of a pedestrian indicator are correlated, albeit minimally. Focusing on the relative frequencies of the two vehicles involved in the traffic accident, passenger cars and SUVs combined make up the majority of vehicles involved. This may not come as a surprise, as these vehicle types are more likely to be found on the road, and thus more likely to be involved in fatal accidents. Moving on to the road conditions, most fatalities occur in dry conditions. As shown in the previous section discussing non-fatal and fatal traffic incidents, most incidents in Denver occur in dry conditions without other factors such as rain or snow. Finally, the neighborhood frequencies confirm fatalities occur in similar frequencies to traffic incidents overall. \n",
    "\n",
    "After preliminary analysis stemming from the EDA, using an iterative approach, several models were explored for their ability to predict fatality and serious injury presence given traffic conditions. Because the elements of interest were the presence and absence of fatalities and injuries, work was done to create a binary classification model given continuous data elements. To accomplish binary classification tasks, several models were compared to each other to observe their relative prediction power centered around the basic indicators of accuracy, precision, and recall. Starting with binary classification of fatalities, three models discussed extensively in the course were compared to three additional models used in classification: Logistic Regression, Support Vector Machines, K-Nearest Neighbors, and Naive Bayes, Decision Trees, and Random Forest, respectively. Out of the models explored, the method using Support Vector Machines yielded the highest accuracy score despite low precision and recall characteristics. Coming close to the SVM accuracy score was the K-NN model, which also featured low scores for precision and recall. Logistic Regression showed promise with an accuracy close to the previous 2 methods, but with reasonable precision and recall scores featuring non-zero values. Of the three additional models covered in the model analysis phase, Naive Bayes exhibited well-rounded prediction characteristics with a 97% accuracy score, 39% precision score, and 3% recall score. Moving on to the binary classification involving serious injuries, SVM proved to be a consistent model with very high accuracy and recall scores of 98% and 83% respectively, indicating that predictions were accurate and relevant to the underlying data. Logistic Regression and K-NN also acheived appreciable scores for accuracy and recall metrics associated with final model fit. Of the other models, Naive Bayes performed relatively well compared to Random Forest and Decision Tree, with high accuracy and reasonable precision and recall. Based on the results of the multi-model analysis, Support Vector Machines were used in follow-up model creation and training tasks. \n",
    "\n",
    "The next tasks included training an SVM model on a mixture of categorical and continuous features. To accomplish this, categorical features were mapped using One-Hot encoding. The encoding is useful as it sets up a \"matrix\" of conditions that are present in the system. Thus, if the road conditions were dry and the lighting conditions were sunny, then both of those factors would contain a 1 as their matrix value, with the rest being 0.  As in the previous section, the presence and absence of fatalities and injuries was coded as a 1 or 0 respectively, eventually being turned into labels for classification. The SVM was trained using the encoded data and a classification report created to determine model accuracy. In analyzing the final model output, it was determined that the quantity of pedestrian indicators positively influenced the presence of fatalities and serious injuries for traffic accidents. In the data, pedestrian indicators took on values between 0 and 3 inclusive. It was also discovered that normalized time-of-day influenced model performance with values corresponding to 5 and 6pm weighing on when fatalities would be predicted. Based on the report for the SVM trained on traffic incidents involving fatalities, the statistics associated with predicting no fatalities were strong. The fact that all of the statistics were at or near 1 indicates that the model is good at predicting cases where no accidents occur. In instances where fatalities are present, the precision, recall, and f1-score for the categorial and continuous mix were 0.01, 0.50, and 0.02 respectively. These values indicate poor prediction power with a middle-of-the-road recall score. The same process was carried out for traffic incidents involving serious injures. The model trained with serious injury targets performed similarly to the model trained using fatality data. The precision, recall, and f1-scores for the null case (or no serious injuries) were 1.00, 0.98, and 0.99 respectively. Again, the model is capable of predicting situations wherein no serious injuries are present. However, the model does not excel in predicting cases where fatalities are present, with a 0.33 recall score and 0.00 for precision and f1-score respectively. "
   ]
  },
  {
   "cell_type": "markdown",
   "id": "fc4323c8-c4be-451c-8a19-5f7ee3fcf889",
   "metadata": {},
   "source": [
    "## Discussion and Conclusions"
   ]
  },
  {
   "cell_type": "markdown",
   "id": "04bf9dd5-2b4c-4db2-b7a1-d46291332fef",
   "metadata": {},
   "source": [
    "Through the exploratory data analysis and subsequent model creation, many factors contributing to accident severity have been identified and analyzed to determine their influence on traffic fatalities and injuries. Fatalities are a priority when considering Denver's goal for Vision Zero, yet serious injuries proved to be a relevant proxy for conditions which could create fatal accidents. It was shown that most accidents involving fatalities and injuries occurred during the key rush-hour period from 4pm to 6pm, with a left-skewed distribution forming for hourly accident occurence when normalized to a 24-hour system. It was also determined that most accidents involving fatalities occurred where lighting conditions were clear (or sunny), with relatively few occurring in dark conditions. An interesting note stemming from the model creation process was the fact that accidents involving fatalities or injuries were influenced by the presence and quanitity of pedestrian indicators. This suggests that accidents involving serious injuries might be higher in likelihood when a pedestrian indicator is present, as vehicles might collide with pedestrians trying to cross an intersection. The same reserved correlation is present when observing the presence of bicycle indicators, suggesting that fatalities and injuries are more likely to occur next to places where pedestrians or bikes/alternative transportation methods are present. Thus, it is safe to conclude that based on the analysis, **most accidents occur during the day around 5-6pm under lighted conditions with normal road conditions and in the presence of one or more pedestrian indicators.** Armed with this information, traffic experts in the city can take steps to curb traffic patterns during peak usage times and around pedestrian or bike indicators. Such steps would prove beneficial in reducing the number of fatalities that stem from vehicle-pedestrian interactions, and could influence vehicle-vehicle interactions. \n",
    "\n",
    "One major limitation of this analysis is the presence of incidents which are under active investigation. While these make up a small percentage of the original dataset, incidents that are under investigation were found more recently in the dataset between 2021 and 2022. Because a larger portion of the incidents under investigation occurred more recently, accidents involving fatalities or injuries within the subset would be missing and thus skew to favor older fatality counts. Ideally, fatality values for recent incidents under investigation could be imputed using an average count or mode. However, because of the lack of additional details surrounding the traffic incident which are also designated as under investigation, those methods might not have yielded meaningful results. Another key limitation of the analysis is the reporting structure of the incidents, being highly categorical and requiring niche knowledge. Depending on the officer(s) who create the traffic report, certain components can be categorized using plain-english descriptions or be in reference to a specific traffic code. For example, circumstances contributing to the incident can be entered as \"Mobile phone distraction\" or simply input as 15, the corresponding code for the circumstance. Because of the reporting inconsitencies, some contributing factors might be double-counted when analyzing factor influence on fatalities. Follow-up studies might maintain a cache of incident codes with corresponding descriptors and map between each when necessary. Of additional note is the fact that location data was not highlighted in the study. Early on, it was apparent that the scope of the project would increase significantly if each neighborhood was analyzed one-by-one for its propensity to produce traffic incidents. Follow-up studies would take the challenge head-on and develop a model capable of classifying neighborhoods as \"hotspots\" and go beyond computing the relative frequencies of accidents per neighborhood, eventually normalizing the data.  Finally, a limitation that might be address in following studies is the robustness of the model used to classify accidents. In this analysis, SVM was used along with parameters previously found to be correlated to each other when it came to fatality/serious injury presence. Given more time, a more comprehensive analysis of the pros and cons for each of the discussed models could be carried out in providing more evidence for model choice. Additionally, the parameters used to train the model, though defended adequately through the preliminary data analysis and model selection, could be prioritized in greater detail. Though the final model was able to classfiy null cases adequately (i.e. those not involving fatalities or injuries), the positive predictive power of the model would greatly benefit from more focus on accidents with fatalities. \n",
    "\n",
    "In all, the work accomplished in this project would be useful as high-level exploration and preliminary model preparation resource for analyzing Denver's traffic data. Through the project, we have uncovered when, where, and what kind of conditions exist when traffic incidents occur. We have also seen what models can be applied to the data in determining accident severity including accident fatalities and serious injuries. Finally, we have seen how certain combinations of factors can influence model output in predicting presence of fatalities and injuries. Though general trends indicate that traffic fatalities are being reduced in Denver year-over-year, the analysis proves that there are additional meaningful steps that can be taken in striving for no traffic fatalities through Vision Zero."
   ]
  },
  {
   "cell_type": "markdown",
   "id": "95aa25aa-bb2b-47a4-ac98-65d4e055ad22",
   "metadata": {},
   "source": [
    "## Works Cited\n",
    "\n",
    "https://denvergov.org/opendata/dataset/city-and-county-of-denver-traffic-accidents \\\n",
    "https://www.denvergov.org/Government/Citywide-Programs-and-Initiatives/Vision-Zero \\\n",
    "https://towardsdatascience.com/classification-models-and-thresholds-97821aa5760f#:~:text=Classification%20models%20are%20a%20subset,spam%20or%20not%20%E2%80%94%20binary%20classification \\\n",
    "https://analyticsindiamag.com/7-types-classification-algorithms/ \\\n",
    "https://www.learndatasci.com/glossary/binary-classification/ \\\n",
    "https://stackabuse.com/classification-in-python-with-scikit-learn-and-pandas/ \\\n",
    "https://scikit-learn.org/stable/modules/generated/sklearn.linear_model.LogisticRegression.html \\\n",
    "https://machinelearningmastery.com/feature-selection-with-categorical-data/ "
   ]
  }
 ],
 "metadata": {
  "kernelspec": {
   "display_name": "Python 3 (ipykernel)",
   "language": "python",
   "name": "python3"
  },
  "language_info": {
   "codemirror_mode": {
    "name": "ipython",
    "version": 3
   },
   "file_extension": ".py",
   "mimetype": "text/x-python",
   "name": "python",
   "nbconvert_exporter": "python",
   "pygments_lexer": "ipython3",
   "version": "3.10.5"
  }
 },
 "nbformat": 4,
 "nbformat_minor": 5
}
